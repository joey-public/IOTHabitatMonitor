{
 "cells": [
  {
   "cell_type": "code",
   "execution_count": 2,
   "id": "daaff7c7",
   "metadata": {},
   "outputs": [],
   "source": [
    "from Adafruit_IO import Client, Feed\n",
    "from i2c_sensor_classes import Ky015Sensor\n",
    "from aio_helper_classes import HabitatMonitorClient\n",
    "import time"
   ]
  },
  {
   "cell_type": "code",
   "execution_count": 3,
   "id": "0ac625b2",
   "metadata": {},
   "outputs": [
    {
     "data": {
      "application/javascript": [
       "\n",
       "try {\n",
       "require(['notebook/js/codecell'], function(codecell) {\n",
       "  codecell.CodeCell.options_default.highlight_modes[\n",
       "      'magic_text/x-csrc'] = {'reg':[/^%%microblaze/]};\n",
       "  Jupyter.notebook.events.one('kernel_ready.Kernel', function(){\n",
       "      Jupyter.notebook.get_cells().map(function(cell){\n",
       "          if (cell.cell_type == 'code'){ cell.auto_highlight(); } }) ;\n",
       "  });\n",
       "});\n",
       "} catch (e) {};\n"
      ]
     },
     "metadata": {},
     "output_type": "display_data"
    },
    {
     "data": {
      "application/javascript": [
       "\n",
       "try {\n",
       "require(['notebook/js/codecell'], function(codecell) {\n",
       "  codecell.CodeCell.options_default.highlight_modes[\n",
       "      'magic_text/x-csrc'] = {'reg':[/^%%pybind11/]};\n",
       "  Jupyter.notebook.events.one('kernel_ready.Kernel', function(){\n",
       "      Jupyter.notebook.get_cells().map(function(cell){\n",
       "          if (cell.cell_type == 'code'){ cell.auto_highlight(); } }) ;\n",
       "  });\n",
       "});\n",
       "} catch (e) {};\n"
      ]
     },
     "metadata": {},
     "output_type": "display_data"
    }
   ],
   "source": [
    "from pynq.overlays.base import BaseOverlay\n",
    "from pynq.lib import MicroblazeLibrary\n",
    "base = BaseOverlay(\"base.bit\")"
   ]
  },
  {
   "cell_type": "markdown",
   "id": "4ae6d737",
   "metadata": {},
   "source": [
    "# Testing Reading from the Sensors \n",
    "no cloud here, trying to decouple cloud code and sensor reading code"
   ]
  },
  {
   "cell_type": "code",
   "execution_count": 4,
   "id": "aa32d33c",
   "metadata": {},
   "outputs": [
    {
     "name": "stdout",
     "output_type": "stream",
     "text": [
      "\t-Read Temp(y/n): y\n",
      "\t\tTemp: 20.0C, Hum: 44.0%\n",
      "\t-Read Temp(y/n): y\n",
      "\t\tTemp: 20.02C, Hum: 44.0%\n",
      "\t-Read Temp(y/n): n\n"
     ]
    }
   ],
   "source": [
    "KY015_ADDR = 8\n",
    "SCL_PIN = 2\n",
    "SDA_PIN = 3\n",
    "\n",
    "liba = MicroblazeLibrary(base.PMODA, ['i2c'])\n",
    "#custom class see 'src/i2c_sensor_classes.py'\n",
    "ky015 = Ky015Sensor(liba, SDA_PIN, SCL_PIN, KY015_ADDR)\n",
    "\n",
    "response = input('\\t-Read Temp(y/n): ')\n",
    "while response != 'n':\n",
    "    temp, hum = ky015.get_temp_and_hum_data()\n",
    "    print('\\t\\tTemp: {}C, Hum: {}%'.format(temp,hum))\n",
    "    response = input('\\t-Read Temp(y/n): ')"
   ]
  },
  {
   "cell_type": "markdown",
   "id": "e74b1ea7",
   "metadata": {},
   "source": [
    "# Testing the Habitat Monitor class\n",
    "this class extends the default Adafruit_IO Client, with functionality specific to out Habitat Monitor. If check the client_id and either sets the feeds to the correct Feed Objects, or if the client_id is new then new data feeds are created and associated with the passed client-id. "
   ]
  },
  {
   "cell_type": "code",
   "execution_count": 5,
   "id": "b9be9ea2",
   "metadata": {},
   "outputs": [
    {
     "name": "stdout",
     "output_type": "stream",
     "text": [
      "Enter username: vsaah\n",
      "Enter Key: aio_XdZP77Piq5DMQH8uhaKLF6SJfMOz\n",
      "creating new HabitatMonitor...\n",
      "HabitatMonitorClientsetup\n"
     ]
    }
   ],
   "source": [
    "UNAME = input('Enter username: ')\n",
    "KEY = input('Enter Key: ')\n",
    "client_id = 'joeys-pynq-board'\n",
    "\n",
    "#custom class see \"src/aio_helper_classes.py\"\n",
    "aio = HabitatMonitorClient(UNAME, KEY, client_id)    "
   ]
  },
  {
   "cell_type": "code",
   "execution_count": 11,
   "id": "719e3465",
   "metadata": {},
   "outputs": [
    {
     "name": "stdout",
     "output_type": "stream",
     "text": [
      "\t-Read Data?(y/n): Y\n",
      "\t\tTemp: 20.02C, Hum: 44.0%\n",
      "\t-Publish to Cloud?(y/n): Y\n",
      "\t\tData Sent to Adafrui.io\n",
      "\t-Read Data?(y/n): N\n",
      "\t\tTemp: 20.02C, Hum: 44.0%\n",
      "\t-Publish to Cloud?(y/n): n\n"
     ]
    }
   ],
   "source": [
    "response = 'y'\n",
    "while response != 'n':\n",
    "    response = input('\\t-Read Data?(y/n): ')\n",
    "    if response == 'n': break\n",
    "    temp, hum = ky015.get_temp_and_hum_data()\n",
    "    print('\\t\\tTemp: {}C, Hum: {}%'.format(temp,hum))\n",
    "    response = input('\\t-Publish to Cloud?(y/n): ')\n",
    "    if response == 'n': break\n",
    "    aio.send(aio.temperature_feed.key, temp)\n",
    "    aio.send(aio.humidity_feed.key, hum)\n",
    "    print('\\t\\tData Sent to Adafrui.io')"
   ]
  },
  {
   "cell_type": "code",
   "execution_count": null,
   "id": "edfd15fe",
   "metadata": {},
   "outputs": [],
   "source": []
  }
 ],
 "metadata": {
  "kernelspec": {
   "display_name": "Python 3",
   "language": "python",
   "name": "python3"
  },
  "language_info": {
   "codemirror_mode": {
    "name": "ipython",
    "version": 3
   },
   "file_extension": ".py",
   "mimetype": "text/x-python",
   "name": "python",
   "nbconvert_exporter": "python",
   "pygments_lexer": "ipython3",
   "version": "3.8.2"
  }
 },
 "nbformat": 4,
 "nbformat_minor": 5
}
