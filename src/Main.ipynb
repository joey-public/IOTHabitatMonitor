{
 "cells": [
  {
   "cell_type": "code",
   "execution_count": 9,
   "id": "daaff7c7",
   "metadata": {},
   "outputs": [],
   "source": [
    "from Adafruit_IO import Client, Feed\n",
    "from i2c_sensor_classes import Ky015Sensor, Ky018Sensor\n",
    "from aio_helper_classes import HabitatMonitorClient\n",
    "import time"
   ]
  },
  {
   "cell_type": "code",
   "execution_count": 10,
   "id": "0ac625b2",
   "metadata": {},
   "outputs": [],
   "source": [
    "from pynq.overlays.base import BaseOverlay\n",
    "from pynq.lib import MicroblazeLibrary\n",
    "base = BaseOverlay(\"base.bit\")"
   ]
  },
  {
   "cell_type": "markdown",
   "id": "87fb575e",
   "metadata": {},
   "source": [
    "# Testing Reading from the Sensors \n",
    "no cloud here, trying to decouple cloud code and sensor reading code"
   ]
  },
  {
   "cell_type": "code",
   "execution_count": 11,
   "id": "aa32d33c",
   "metadata": {},
   "outputs": [
    {
     "name": "stdout",
     "output_type": "stream",
     "text": [
      "Read Data?(y/n): y\n",
      "\tTemp: 20.06C, Hum: 44.0%\n",
      "\tBright: 252\n",
      "Read Data?(y/n): y\n",
      "\tTemp: 20.06C, Hum: 44.0%\n",
      "\tBright: 248\n",
      "Read Data?(y/n): y\n",
      "\tTemp: 20.06C, Hum: 44.0%\n",
      "\tBright: 244\n",
      "Read Data?(y/n): n\n"
     ]
    }
   ],
   "source": [
    "KY015_ADDR = 8\n",
    "KY018_ADDR = 0x28\n",
    "SCL_PIN = 2\n",
    "SDA_PIN = 3\n",
    "\n",
    "liba = MicroblazeLibrary(base.PMODA, ['i2c'])\n",
    "#custom class see 'src/i2c_sensor_classes.py'\n",
    "ky015 = Ky015Sensor(liba, SDA_PIN, SCL_PIN, KY015_ADDR)\n",
    "\n",
    "libb = MicroblazeLibrary(base.PMODB, ['i2c'])\n",
    "#custom class see 'src/i2c_sensor_classes.py'\n",
    "ky018 = Ky018Sensor(libb, SDA_PIN, SCL_PIN, KY018_ADDR)\n",
    "\n",
    "response = input('Read Data?(y/n): ')\n",
    "while response != 'n':\n",
    "    temp, hum = ky015.get_temp_and_hum_data()\n",
    "    bright = ky018.get_brightness_data()\n",
    "    print('\\tTemp: {}C, Hum: {}%\\n\\tBright: {}'.format(temp,hum, bright))\n",
    "    response = input('Read Data?(y/n): ')"
   ]
  },
  {
   "cell_type": "markdown",
   "id": "636bd269",
   "metadata": {},
   "source": [
    "# Testing the Habitat Monitor class\n",
    "this class extends the default Adafruit_IO Client, with functionality specific to out Habitat Monitor. If check the client_id and either sets the feeds to the correct Feed Objects, or if the client_id is new then new data feeds are created and associated with the passed client-id. "
   ]
  },
  {
   "cell_type": "code",
   "execution_count": null,
   "id": "b9be9ea2",
   "metadata": {},
   "outputs": [],
   "source": [
    "UNAME = input('Enter username: ')\n",
    "KEY = input('Enter Key: ')\n",
    "client_id = 'joeys-pynq-board'\n",
    "\n",
    "#custom class see \"src/aio_helper_classes.py\"\n",
    "aio = HabitatMonitorClient(UNAME, KEY, client_id)    "
   ]
  },
  {
   "cell_type": "code",
   "execution_count": null,
   "id": "95c154f9",
   "metadata": {},
   "outputs": [],
   "source": [
    "response = 'y'\n",
    "while response != 'n':\n",
    "    response = input('Read Data?(y/n): ')\n",
    "    if response == 'n': break\n",
    "    temp, hum = ky015.get_temp_and_hum_data()\n",
    "    print('\\tTemp: {}C, Hum: {}%'.format(temp,hum))\n",
    "    response = input('Publish to Cloud?(y/n): ')\n",
    "    if response == 'n': break\n",
    "    aio.send(aio.temperature_feed.key, temp)\n",
    "    aio.send(aio.humidity_feed.key, hum)\n",
    "    print('\\tData Sent to Adafrui.io')"
   ]
  },
  {
   "cell_type": "code",
   "execution_count": null,
   "id": "edfd15fe",
   "metadata": {},
   "outputs": [],
   "source": []
  }
 ],
 "metadata": {
  "kernelspec": {
   "display_name": "Python 3",
   "language": "python",
   "name": "python3"
  },
  "language_info": {
   "codemirror_mode": {
    "name": "ipython",
    "version": 3
   },
   "file_extension": ".py",
   "mimetype": "text/x-python",
   "name": "python",
   "nbconvert_exporter": "python",
   "pygments_lexer": "ipython3",
   "version": "3.8.2"
  }
 },
 "nbformat": 4,
 "nbformat_minor": 5
}
