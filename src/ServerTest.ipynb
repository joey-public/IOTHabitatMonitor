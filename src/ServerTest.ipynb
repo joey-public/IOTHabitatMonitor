{
 "cells": [
  {
   "cell_type": "code",
   "execution_count": 1,
   "id": "b5e7ec6d",
   "metadata": {},
   "outputs": [],
   "source": [
    "from Adafruit_IO import Client, Feed, Group\n",
    "from i2c_sensor_classes import Ky015Sensor, Ky018Sensor\n",
    "from aio_helper_classes import HabitatMonitorClient\n",
    "import time"
   ]
  },
  {
   "cell_type": "code",
   "execution_count": 2,
   "id": "525f5b27",
   "metadata": {},
   "outputs": [
    {
     "data": {
      "application/javascript": [
       "\n",
       "try {\n",
       "require(['notebook/js/codecell'], function(codecell) {\n",
       "  codecell.CodeCell.options_default.highlight_modes[\n",
       "      'magic_text/x-csrc'] = {'reg':[/^%%microblaze/]};\n",
       "  Jupyter.notebook.events.one('kernel_ready.Kernel', function(){\n",
       "      Jupyter.notebook.get_cells().map(function(cell){\n",
       "          if (cell.cell_type == 'code'){ cell.auto_highlight(); } }) ;\n",
       "  });\n",
       "});\n",
       "} catch (e) {};\n"
      ]
     },
     "metadata": {},
     "output_type": "display_data"
    },
    {
     "data": {
      "application/javascript": [
       "\n",
       "try {\n",
       "require(['notebook/js/codecell'], function(codecell) {\n",
       "  codecell.CodeCell.options_default.highlight_modes[\n",
       "      'magic_text/x-csrc'] = {'reg':[/^%%pybind11/]};\n",
       "  Jupyter.notebook.events.one('kernel_ready.Kernel', function(){\n",
       "      Jupyter.notebook.get_cells().map(function(cell){\n",
       "          if (cell.cell_type == 'code'){ cell.auto_highlight(); } }) ;\n",
       "  });\n",
       "});\n",
       "} catch (e) {};\n"
      ]
     },
     "metadata": {},
     "output_type": "display_data"
    }
   ],
   "source": [
    "from pynq.overlays.base import BaseOverlay\n",
    "from pynq.lib import MicroblazeLibrary\n",
    "base = BaseOverlay(\"base.bit\")"
   ]
  },
  {
   "cell_type": "code",
   "execution_count": 15,
   "id": "337b20ab",
   "metadata": {},
   "outputs": [],
   "source": [
    "class HabitatMonitorServer(Client):\n",
    "    def __init__(self, aio_uname, aio_key):\n",
    "        super().__init__(aio_uname, aio_key)\n",
    "        print('Creating Habitat MOn Server...')\n",
    "        self.client_ids = self.get_client_ids()\n",
    "        self.high_bright_feed = self.feeds('high-brightness-threshold')\n",
    "        self.high_hum_feed= self.feeds('high-humidity-threshold')\n",
    "        self.high_temp_feed = self.feeds('high-temperature-threshold')\n",
    "        self.low_bright_feed = self.feeds('low-brightness-threshold')\n",
    "        self.low_hum_feed = self.feeds('low-humidity-threshold')\n",
    "        self.low_temp_feed = self.feeds('low-temperature-threshold')\n",
    "        self.temperature_group = self.groups('temperature-measurements')\n",
    "        self.humidity_group = self.groups('humidity-measurements')\n",
    "        self.brightness_group = self.groups('brightness-measurements')\n",
    "        self.high_temp, self.low_temp = None, None\n",
    "        self.high_hum, self.low_hum = None, None\n",
    "        self.high_bright, self.low_bright = None, None\n",
    "        \n",
    "    def get_client_ids(self):\n",
    "        client_id_list = []\n",
    "        id_feed = self.feeds('client-ids')\n",
    "        cids = self.data(id_feed.key)\n",
    "        for client_id in cids:\n",
    "            print(client_id.value)\n",
    "            client_id_list.append(client_id.value)\n",
    "        return client_id_list\n",
    "    \n",
    "    @property\n",
    "    def high_temp(self):\n",
    "        return self.__high_temp\n",
    "    @high_temp.setter\n",
    "    def high_temp(self, val):\n",
    "        if val != None:\n",
    "            self.send(self.high_temp_feed.key, val)\n",
    "        self.__high_temp = val\n",
    "    @property\n",
    "    def high_hum(self):\n",
    "        return self.__high_hum\n",
    "    @high_hum.setter\n",
    "    def high_hum(self, val):\n",
    "        if val != None:\n",
    "            self.send(self.high_hum_feed.key, val)\n",
    "        self.__high_hum = val\n",
    "    @property\n",
    "    def high_bright(self):\n",
    "        return self.__high_bright\n",
    "    @high_bright.setter\n",
    "    def high_bright(self, val):\n",
    "        if val != None:\n",
    "            self.send(self.high_bright_feed.key, val)\n",
    "        self.__high_bright = val\n",
    "    @property\n",
    "    def low_temp(self):\n",
    "        return self.__low_temp\n",
    "    @low_temp.setter\n",
    "    def low_temp(self, val):\n",
    "        if val != None:\n",
    "            self.send(self.low_temp_feed.key, val)\n",
    "        self.__low_temp = val\n",
    "    @property\n",
    "    def low_hum(self):\n",
    "        return self.__low_hum\n",
    "    @low_hum.setter\n",
    "    def low_hum(self, val):\n",
    "        if val != None:\n",
    "            self.send(self.low_hum_feed.key, val)\n",
    "        self.__low_hum = val\n",
    "    @property\n",
    "    def low_bright(self):\n",
    "        return self.__low_bright\n",
    "    @low_bright.setter\n",
    "    def low_bright(self, val):\n",
    "        if val != None:\n",
    "            self.send(self.low_bright_feed.key, val)\n",
    "        self.__low_bright = val       "
   ]
  },
  {
   "cell_type": "markdown",
   "id": "ab16fa0d",
   "metadata": {},
   "source": [
    "# Server Code"
   ]
  },
  {
   "cell_type": "code",
   "execution_count": 20,
   "id": "9c758e5b",
   "metadata": {},
   "outputs": [],
   "source": [
    "def server_process(uname, key):\n",
    "    #create an aio client \n",
    "    aio = HabitatMonitorServer(uname, key)\n",
    "    #get the feeds for setting thresholds\n",
    "    aio.high_temp, aio.low_temp = 67, 11\n",
    "    aio.high_hum, aio.low_hum = 64, 27\n",
    "    aio.high_bright, aio.low_bright = 1205, 410\n",
    "    monitor_thresholds(aio)\n",
    "    \n",
    "def monitor_thresholds(aio:HabitatMonitorServer):\n",
    "    temp_is_low, temp_is_high = monitor_temp_thresholds(aio)\n",
    "    hum_is_high, hum_is_low = monitor_hum_thresholds(aio)\n",
    "    bright_is_low, bright_is_high = monitor_bright_thresholds(aio)\n",
    "    \n",
    "def monitor_temp_thresholds(aio:HabitatMonitorServer):\n",
    "    for tfeed in aio.temperature_group.feeds:\n",
    "        last_reading = float(aio.receive(tfeed.key).value)\n",
    "        if last_reading > aio.high_temp:\n",
    "            print('Warning: Temp={} > {}!'.format(last_reading, aio.high_temp))\n",
    "            return False, True\n",
    "        elif last_reading < aio.low_temp:\n",
    "            print('Warning: Temp={} > {}!'.format(last_reading, aio.high_temp))\n",
    "            return True, False\n",
    "        else:\n",
    "            print('All Good: {} < Temp={} < {}'.format(aio.low_temp, last_reading, aio.high_temp))\n",
    "            return False, False\n",
    "\n",
    "def monitor_hum_thresholds(aio:HabitatMonitorServer):\n",
    "    for hfeed in aio.humidity_group.feeds:\n",
    "        print(hfeed.key)\n",
    "        last_reading = float(aio.receive(hfeed.key).value)\n",
    "        if last_reading > aio.high_hum:\n",
    "            print('Warning: Temp={} > {}!'.format(last_reading, aio.high_hum))\n",
    "            return False, True\n",
    "        elif last_reading < aio.low_hum:\n",
    "            print('Warning: Temp={} > {}!'.format(last_reading, aio.high_hum))\n",
    "            return True, False\n",
    "        else:\n",
    "            print('All good {} < Temp={} < {}'.format(aio.low_hum, last_reading, aio.high_hum))\n",
    "            return False, False\n",
    "        \n",
    "def monitor_bright_thresholds(aio:HabitatMonitorServer):\n",
    "    for bfeed in aio.humidity_group.feeds:\n",
    "        print(bfeed.key)\n",
    "        last_reading = float(aio.receive(bfeed.key).value)\n",
    "        if last_reading > aio.high_bright:\n",
    "            print('Warning: Temp={} > {}!'.format(last_reading, aio.high_bright))\n",
    "            return False, True\n",
    "        elif last_reading < aio.low_hum:\n",
    "            print('Warning: Temp={} > {}!'.format(last_reading, aio.high_bright))\n",
    "            return True, False\n",
    "        else:\n",
    "            print('All good {} < Temp={} < {}'.format(aio.low_bright, last_reading, aio.high_bright))\n",
    "            return False, False"
   ]
  },
  {
   "cell_type": "code",
   "execution_count": 21,
   "id": "56e38898",
   "metadata": {},
   "outputs": [
    {
     "name": "stdout",
     "output_type": "stream",
     "text": [
      "Creating Habitat MOn Server...\n",
      "ryans-pynq-board\n",
      "joeys-pynq-board\n",
      "All Good: 11 < Temp=18.0 < 67\n",
      "humidity-measurements.humidity-joeys-pynq-board-1\n",
      "All good 27 < Temp=60.0 < 64\n",
      "humidity-measurements.humidity-joeys-pynq-board-1\n",
      "All good 410 < Temp=60.0 < 1205\n"
     ]
    }
   ],
   "source": [
    "with open('adafruitkey.dontpush') as file:\n",
    "    UNAME = file.readline().rstrip('\\n')\n",
    "    KEY = file.readline().rstrip('\\n')\n",
    "server_process(UNAME, KEY)"
   ]
  },
  {
   "cell_type": "code",
   "execution_count": null,
   "id": "ec58ec48",
   "metadata": {},
   "outputs": [],
   "source": []
  }
 ],
 "metadata": {
  "kernelspec": {
   "display_name": "Python 3",
   "language": "python",
   "name": "python3"
  },
  "language_info": {
   "codemirror_mode": {
    "name": "ipython",
    "version": 3
   },
   "file_extension": ".py",
   "mimetype": "text/x-python",
   "name": "python",
   "nbconvert_exporter": "python",
   "pygments_lexer": "ipython3",
   "version": "3.8.2"
  }
 },
 "nbformat": 4,
 "nbformat_minor": 5
}
