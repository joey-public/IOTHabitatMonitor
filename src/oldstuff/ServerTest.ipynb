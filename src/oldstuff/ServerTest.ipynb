{
 "cells": [
  {
   "cell_type": "code",
   "execution_count": 13,
   "id": "b5e7ec6d",
   "metadata": {},
   "outputs": [],
   "source": [
    "from Adafruit_IO import Client, Feed, Group\n",
    "from i2c_sensor_classes import Ky015Sensor, Ky018Sensor\n",
    "from aio_helper_classes import HabitatMonitorClient\n",
    "import time"
   ]
  },
  {
   "cell_type": "code",
   "execution_count": 14,
   "id": "525f5b27",
   "metadata": {},
   "outputs": [],
   "source": [
    "from pynq.overlays.base import BaseOverlay\n",
    "from pynq.lib import MicroblazeLibrary\n",
    "base = BaseOverlay(\"base.bit\")"
   ]
  },
  {
   "cell_type": "code",
   "execution_count": 122,
   "id": "337b20ab",
   "metadata": {},
   "outputs": [],
   "source": [
    "class HabitatMonitorServer(Client):\n",
    "    def __init__(self, aio_uname, aio_key):\n",
    "        super().__init__(aio_uname, aio_key)\n",
    "        print('Creating Habitat MOn Server...')\n",
    "        self.client_ids = self.get_client_ids()\n",
    "        self.high_bright_feed = self.feeds('high-brightness-threshold')\n",
    "        self.high_hum_feed= self.feeds('high-humidity-threshold')\n",
    "        self.high_temp_feed = self.feeds('high-temperature-threshold')\n",
    "        self.low_bright_feed = self.feeds('low-brightness-threshold')\n",
    "        self.low_hum_feed = self.feeds('low-humidity-threshold')\n",
    "        self.low_temp_feed = self.feeds('low-temperature-threshold')\n",
    "        self.temperature_group = self.groups('temperature-measurements')\n",
    "        self.humidity_group = self.groups('humidity-measurements')\n",
    "        self.brightness_group = self.groups('brightness-measurements')\n",
    "        self.high_temp, self.low_temp = None, None\n",
    "        self.high_hum, self.low_hum = None, None\n",
    "        self.high_bright, self.low_bright = None, None\n",
    "        \n",
    "    def get_client_ids(self):\n",
    "        client_id_list = []\n",
    "        id_feed = self.feeds('client-ids')\n",
    "        cids = self.data(id_feed.key)\n",
    "        for client_id in cids:\n",
    "            print(client_id.value)\n",
    "            client_id_list.append(client_id.value)\n",
    "        return client_id_list\n",
    "    \n",
    "    @property\n",
    "    def high_temp(self):\n",
    "        return self.__high_temp\n",
    "    @high_temp.setter\n",
    "    def high_temp(self, val):\n",
    "        if val != None:\n",
    "            self.send(self.high_temp_feed.key, val)\n",
    "        self.__high_temp = val\n",
    "    @property\n",
    "    def high_hum(self):\n",
    "        return self.__high_hum\n",
    "    @high_hum.setter\n",
    "    def high_hum(self, val):\n",
    "        if val != None:\n",
    "            self.send(self.high_hum_feed.key, val)\n",
    "        self.__high_hum = val\n",
    "    @property\n",
    "    def high_bright(self):\n",
    "        return self.__high_bright\n",
    "    @high_bright.setter\n",
    "    def high_bright(self, val):\n",
    "        if val != None:\n",
    "            self.send(self.high_bright_feed.key, val)\n",
    "        self.__high_bright = val\n",
    "    @property\n",
    "    def low_temp(self):\n",
    "        return self.__low_temp\n",
    "    @low_temp.setter\n",
    "    def low_temp(self, val):\n",
    "        if val != None:\n",
    "            self.send(self.low_temp_feed.key, val)\n",
    "        self.__low_temp = val\n",
    "    @property\n",
    "    def low_hum(self):\n",
    "        return self.__low_hum\n",
    "    @low_hum.setter\n",
    "    def low_hum(self, val):\n",
    "        if val != None:\n",
    "            self.send(self.low_hum_feed.key, val)\n",
    "        self.__low_hum = val\n",
    "    @property\n",
    "    def low_bright(self):\n",
    "        return self.__low_bright\n",
    "    @low_bright.setter\n",
    "    def low_bright(self, val):\n",
    "        if val != None:\n",
    "            self.send(self.low_bright_feed.key, val)\n",
    "        self.__low_bright = val       "
   ]
  },
  {
   "cell_type": "markdown",
   "id": "ab16fa0d",
   "metadata": {},
   "source": [
    "# Server Code"
   ]
  },
  {
   "cell_type": "code",
   "execution_count": 123,
   "id": "9c758e5b",
   "metadata": {},
   "outputs": [],
   "source": [
    "def server_process(uname, key):\n",
    "    #create an aio client \n",
    "    aio = HabitatMonitorServer(uname, key)\n",
    "    #get the feeds for setting thresholds\n",
    "    aio.high_temp, aio.low_temp = 67, 11\n",
    "    aio.high_hum, aio.low_hum = 64, 27\n",
    "    aio.high_bright, aio.low_bright = 1205, 410\n",
    "    monitor_thresholds(aio)\n",
    "    \n",
    "def monitor_thresholds(aio:HabitatMonitorServer):\n",
    "    temp_is_low, temp_is_high = monitor_temp_thresholds(aio)\n",
    "    hum_is_high, hum_is_low = monitor_hum_thresholds(aio)\n",
    "    bright_is_low, bright_is_high = monitor_bright_thresholds(aio)\n",
    "    \n",
    "def monitor_temp_thresholds(aio:HabitatMonitorServer):\n",
    "    for tfeed in aio.temperature_group.feeds:\n",
    "        last_reading = float(aio.receive(tfeed.key).value)\n",
    "        if last_reading > aio.high_temp:\n",
    "            print('Warning: Temp={} > {}!'.format(last_reading, aio.high_temp))\n",
    "            return False, True\n",
    "        elif last_reading < aio.low_temp():\n",
    "            print('Warning: Temp={} > {}!'.format(last_reading, aio.high_temp))\n",
    "            return True, False\n",
    "        else:\n",
    "            print('All good {} < Temp={} < {}'.format(aio.low_temp, last_reading, aio.high_temp))\n",
    "            return \n",
    "\n",
    "def monitor_hum_thresholds(aio:HabitatMonitorServer):\n",
    "    for hfeed in aio.humidity_group.feeds:\n",
    "        print(hfeed.key)\n",
    "        last_reading = aio.receive(hfeed.key).value\n",
    "        if last_reading > aio.high_hum:\n",
    "            print('Warning: Temp={} > {}!'.format(last_reading, aio.high_hum))\n",
    "            return False, True\n",
    "        elif last_reading < aio.low_hum():\n",
    "            print('Warning: Temp={} > {}!'.format(last_reading, aio.high_hum))\n",
    "            return True, False\n",
    "        else:\n",
    "            print('All good {} < Temp={} < {}'.format(aio.low_hum, last_reading, aio.high_hum))\n",
    "            return \n",
    "        \n",
    "def monitor_bright_thresholds(aio:HabitatMonitorServer):\n",
    "    for bfeed in aio.humidity_group.feeds:\n",
    "        print(bfeed.key)\n",
    "        last_reading = aio.receive(bfeed.key).value\n",
    "        if last_reading > aio.high_bright:\n",
    "            print('Warning: Temp={} > {}!'.format(last_reading, aio.high_bright))\n",
    "            return False, True\n",
    "        elif last_reading < aio.low_hum():\n",
    "            print('Warning: Temp={} > {}!'.format(last_reading, aio.high_bright))\n",
    "            return True, False\n",
    "        else:\n",
    "            print('All good {} < Temp={} < {}'.format(aio.low_bright, last_reading, aio.high_bright))\n",
    "            return "
   ]
  },
  {
   "cell_type": "code",
   "execution_count": 124,
   "id": "56e38898",
   "metadata": {},
   "outputs": [
    {
     "name": "stdout",
     "output_type": "stream",
     "text": [
      "Creating Habitat MOn Server...\n",
      "ryans-pynq-board\n",
      "joeys-pynq-board\n"
     ]
    },
    {
     "ename": "TypeError",
     "evalue": "'int' object is not callable",
     "output_type": "error",
     "traceback": [
      "\u001b[0;31m---------------------------------------------------------------------------\u001b[0m",
      "\u001b[0;31mTypeError\u001b[0m                                 Traceback (most recent call last)",
      "\u001b[0;32m<ipython-input-124-024517eded8a>\u001b[0m in \u001b[0;36m<module>\u001b[0;34m\u001b[0m\n\u001b[1;32m      1\u001b[0m \u001b[0muname\u001b[0m\u001b[0;34m,\u001b[0m \u001b[0mkey\u001b[0m \u001b[0;34m=\u001b[0m \u001b[0;34m'vsaah'\u001b[0m\u001b[0;34m,\u001b[0m \u001b[0;34m'aio_frxg67OsqvjWMcJorgxHhOtdev7M'\u001b[0m\u001b[0;34m\u001b[0m\u001b[0;34m\u001b[0m\u001b[0m\n\u001b[0;32m----> 2\u001b[0;31m \u001b[0mserver_process\u001b[0m\u001b[0;34m(\u001b[0m\u001b[0muname\u001b[0m\u001b[0;34m,\u001b[0m \u001b[0mkey\u001b[0m\u001b[0;34m)\u001b[0m\u001b[0;34m\u001b[0m\u001b[0;34m\u001b[0m\u001b[0m\n\u001b[0m",
      "\u001b[0;32m<ipython-input-123-0496824c1052>\u001b[0m in \u001b[0;36mserver_process\u001b[0;34m(uname, key)\u001b[0m\n\u001b[1;32m      6\u001b[0m     \u001b[0maio\u001b[0m\u001b[0;34m.\u001b[0m\u001b[0mhigh_hum\u001b[0m\u001b[0;34m,\u001b[0m \u001b[0maio\u001b[0m\u001b[0;34m.\u001b[0m\u001b[0mlow_hum\u001b[0m \u001b[0;34m=\u001b[0m \u001b[0;36m64\u001b[0m\u001b[0;34m,\u001b[0m \u001b[0;36m27\u001b[0m\u001b[0;34m\u001b[0m\u001b[0;34m\u001b[0m\u001b[0m\n\u001b[1;32m      7\u001b[0m     \u001b[0maio\u001b[0m\u001b[0;34m.\u001b[0m\u001b[0mhigh_bright\u001b[0m\u001b[0;34m,\u001b[0m \u001b[0maio\u001b[0m\u001b[0;34m.\u001b[0m\u001b[0mlow_bright\u001b[0m \u001b[0;34m=\u001b[0m \u001b[0;36m1205\u001b[0m\u001b[0;34m,\u001b[0m \u001b[0;36m410\u001b[0m\u001b[0;34m\u001b[0m\u001b[0;34m\u001b[0m\u001b[0m\n\u001b[0;32m----> 8\u001b[0;31m     \u001b[0mmonitor_thresholds\u001b[0m\u001b[0;34m(\u001b[0m\u001b[0maio\u001b[0m\u001b[0;34m)\u001b[0m\u001b[0;34m\u001b[0m\u001b[0;34m\u001b[0m\u001b[0m\n\u001b[0m\u001b[1;32m      9\u001b[0m \u001b[0;34m\u001b[0m\u001b[0m\n\u001b[1;32m     10\u001b[0m \u001b[0;32mdef\u001b[0m \u001b[0mmonitor_thresholds\u001b[0m\u001b[0;34m(\u001b[0m\u001b[0maio\u001b[0m\u001b[0;34m:\u001b[0m\u001b[0mHabitatMonitorServer\u001b[0m\u001b[0;34m)\u001b[0m\u001b[0;34m:\u001b[0m\u001b[0;34m\u001b[0m\u001b[0;34m\u001b[0m\u001b[0m\n",
      "\u001b[0;32m<ipython-input-123-0496824c1052>\u001b[0m in \u001b[0;36mmonitor_thresholds\u001b[0;34m(aio)\u001b[0m\n\u001b[1;32m      9\u001b[0m \u001b[0;34m\u001b[0m\u001b[0m\n\u001b[1;32m     10\u001b[0m \u001b[0;32mdef\u001b[0m \u001b[0mmonitor_thresholds\u001b[0m\u001b[0;34m(\u001b[0m\u001b[0maio\u001b[0m\u001b[0;34m:\u001b[0m\u001b[0mHabitatMonitorServer\u001b[0m\u001b[0;34m)\u001b[0m\u001b[0;34m:\u001b[0m\u001b[0;34m\u001b[0m\u001b[0;34m\u001b[0m\u001b[0m\n\u001b[0;32m---> 11\u001b[0;31m     \u001b[0mtemp_is_low\u001b[0m\u001b[0;34m,\u001b[0m \u001b[0mtemp_is_high\u001b[0m \u001b[0;34m=\u001b[0m \u001b[0mmonitor_temp_thresholds\u001b[0m\u001b[0;34m(\u001b[0m\u001b[0maio\u001b[0m\u001b[0;34m)\u001b[0m\u001b[0;34m\u001b[0m\u001b[0;34m\u001b[0m\u001b[0m\n\u001b[0m\u001b[1;32m     12\u001b[0m     \u001b[0mhum_is_high\u001b[0m\u001b[0;34m,\u001b[0m \u001b[0mhum_is_low\u001b[0m \u001b[0;34m=\u001b[0m \u001b[0mmonitor_hum_thresholds\u001b[0m\u001b[0;34m(\u001b[0m\u001b[0maio\u001b[0m\u001b[0;34m)\u001b[0m\u001b[0;34m\u001b[0m\u001b[0;34m\u001b[0m\u001b[0m\n\u001b[1;32m     13\u001b[0m     \u001b[0mbright_is_low\u001b[0m\u001b[0;34m,\u001b[0m \u001b[0mbright_is_high\u001b[0m \u001b[0;34m=\u001b[0m \u001b[0mmonitor_bright_thresholds\u001b[0m\u001b[0;34m(\u001b[0m\u001b[0maio\u001b[0m\u001b[0;34m)\u001b[0m\u001b[0;34m\u001b[0m\u001b[0;34m\u001b[0m\u001b[0m\n",
      "\u001b[0;32m<ipython-input-123-0496824c1052>\u001b[0m in \u001b[0;36mmonitor_temp_thresholds\u001b[0;34m(aio)\u001b[0m\n\u001b[1;32m     19\u001b[0m             \u001b[0mprint\u001b[0m\u001b[0;34m(\u001b[0m\u001b[0;34m'Warning: Temp={} > {}!'\u001b[0m\u001b[0;34m.\u001b[0m\u001b[0mformat\u001b[0m\u001b[0;34m(\u001b[0m\u001b[0mlast_reading\u001b[0m\u001b[0;34m,\u001b[0m \u001b[0maio\u001b[0m\u001b[0;34m.\u001b[0m\u001b[0mhigh_temp\u001b[0m\u001b[0;34m)\u001b[0m\u001b[0;34m)\u001b[0m\u001b[0;34m\u001b[0m\u001b[0;34m\u001b[0m\u001b[0m\n\u001b[1;32m     20\u001b[0m             \u001b[0;32mreturn\u001b[0m \u001b[0;32mFalse\u001b[0m\u001b[0;34m,\u001b[0m \u001b[0;32mTrue\u001b[0m\u001b[0;34m\u001b[0m\u001b[0;34m\u001b[0m\u001b[0m\n\u001b[0;32m---> 21\u001b[0;31m         \u001b[0;32melif\u001b[0m \u001b[0mlast_reading\u001b[0m \u001b[0;34m<\u001b[0m \u001b[0maio\u001b[0m\u001b[0;34m.\u001b[0m\u001b[0mlow_temp\u001b[0m\u001b[0;34m(\u001b[0m\u001b[0;34m)\u001b[0m\u001b[0;34m:\u001b[0m\u001b[0;34m\u001b[0m\u001b[0;34m\u001b[0m\u001b[0m\n\u001b[0m\u001b[1;32m     22\u001b[0m             \u001b[0mprint\u001b[0m\u001b[0;34m(\u001b[0m\u001b[0;34m'Warning: Temp={} > {}!'\u001b[0m\u001b[0;34m.\u001b[0m\u001b[0mformat\u001b[0m\u001b[0;34m(\u001b[0m\u001b[0mlast_reading\u001b[0m\u001b[0;34m,\u001b[0m \u001b[0maio\u001b[0m\u001b[0;34m.\u001b[0m\u001b[0mhigh_temp\u001b[0m\u001b[0;34m)\u001b[0m\u001b[0;34m)\u001b[0m\u001b[0;34m\u001b[0m\u001b[0;34m\u001b[0m\u001b[0m\n\u001b[1;32m     23\u001b[0m             \u001b[0;32mreturn\u001b[0m \u001b[0;32mTrue\u001b[0m\u001b[0;34m,\u001b[0m \u001b[0;32mFalse\u001b[0m\u001b[0;34m\u001b[0m\u001b[0;34m\u001b[0m\u001b[0m\n",
      "\u001b[0;31mTypeError\u001b[0m: 'int' object is not callable"
     ]
    }
   ],
   "source": [
    "uname, key = 'vsaah', 'aio_frxg67OsqvjWMcJorgxHhOtdev7M'\n",
    "server_process(uname, key)"
   ]
  },
  {
   "cell_type": "code",
   "execution_count": null,
   "id": "ec58ec48",
   "metadata": {},
   "outputs": [],
   "source": []
  }
 ],
 "metadata": {
  "kernelspec": {
   "display_name": "Python 3",
   "language": "python",
   "name": "python3"
  },
  "language_info": {
   "codemirror_mode": {
    "name": "ipython",
    "version": 3
   },
   "file_extension": ".py",
   "mimetype": "text/x-python",
   "name": "python",
   "nbconvert_exporter": "python",
   "pygments_lexer": "ipython3",
   "version": "3.8.2"
  }
 },
 "nbformat": 4,
 "nbformat_minor": 5
}
