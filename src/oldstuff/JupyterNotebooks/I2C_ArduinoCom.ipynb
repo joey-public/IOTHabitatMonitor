{
 "cells": [
  {
   "cell_type": "markdown",
   "id": "7ef9ac4f",
   "metadata": {},
   "source": [
    "# WES 237A Final Project Test Notebook"
   ]
  },
  {
   "cell_type": "code",
   "execution_count": 16,
   "id": "2cc9b7cd",
   "metadata": {},
   "outputs": [],
   "source": [
    "from pynq.overlays.base import BaseOverlay\n",
    "from pynq.lib import MicroblazeLibrary\n",
    "base = BaseOverlay(\"base.bit\")"
   ]
  },
  {
   "cell_type": "code",
   "execution_count": 30,
   "id": "5ef5e1c2",
   "metadata": {},
   "outputs": [],
   "source": [
    "import time"
   ]
  },
  {
   "cell_type": "markdown",
   "id": "66d7653e",
   "metadata": {},
   "source": [
    "# Arduino Com I2C"
   ]
  },
  {
   "cell_type": "code",
   "execution_count": 35,
   "id": "bf4c355c",
   "metadata": {},
   "outputs": [],
   "source": [
    "def decode_data(data):\n",
    "    temp_0 = int(data[2])\n",
    "    temp_1 = int(data[3])\n",
    "    hum_0 = int(data[0])\n",
    "    hum_1 = int(data[1])\n",
    "    temp = '{}.{}'.format(temp_0, temp_1)\n",
    "    hum = '{}.{}'.format(hum_0, hum_1)\n",
    "    return temp,hum"
   ]
  },
  {
   "cell_type": "code",
   "execution_count": 39,
   "id": "f3278406",
   "metadata": {},
   "outputs": [
    {
     "name": "stdout",
     "output_type": "stream",
     "text": [
      "Opening i2c with arduino\n",
      "Temp:....20.6 C\n",
      "Hum:.....42.0 % \n",
      "Temp:....20.6 C\n",
      "Hum:.....42.0 % \n",
      "Temp:....20.6 C\n",
      "Hum:.....42.0 % \n",
      "Temp:....20.6 C\n",
      "Hum:.....42.0 % \n",
      "Temp:....20.6 C\n",
      "Hum:.....42.0 % \n",
      "Temp:....20.6 C\n",
      "Hum:.....42.0 % \n",
      "Temp:....20.6 C\n",
      "Hum:.....42.0 % \n",
      "Temp:....20.6 C\n",
      "Hum:.....42.0 % \n",
      "Temp:....20.6 C\n",
      "Hum:.....42.0 % \n",
      "Temp:....20.8 C\n",
      "Hum:.....42.0 % \n",
      "Closing i2c with arduino\n"
     ]
    }
   ],
   "source": [
    "addr =0b00001000 #arduino slave adress = 8\n",
    "SCL = 2 #pynq pmod pin for scl\n",
    "SDA = 3 #pynq pmod pin for sda\n",
    "DATA_LEN = 5\n",
    "\n",
    "liba = MicroblazeLibrary(base.PMODA, ['i2c'])\n",
    "\n",
    "print('Opening i2c with arduino')\n",
    "arduino = liba.i2c_open(SDA, SCL)# TODO open an i2c bus on scl and sda pins\n",
    "\n",
    "buf = bytearray(6)\n",
    "buf[0] = 0b00011000\n",
    "\n",
    "liba.i2c_write(arduino, addr, buf, 1)\n",
    "for i in range(10):\n",
    "    liba.i2c_read(arduino, addr, buf, DATA_LEN)\n",
    "    temp,hum = decode_data(buf)\n",
    "    print('Temp:....{} C\\nHum:.....{} % '.format(temp, hum))\n",
    "    time.sleep(1)\n",
    "print('Closing i2c with arduino')\n",
    "liba.i2c_close(arduino)"
   ]
  },
  {
   "cell_type": "code",
   "execution_count": 43,
   "id": "c633f674",
   "metadata": {},
   "outputs": [
    {
     "ename": "ModuleNotFoundError",
     "evalue": "No module named 'i2c_device'",
     "output_type": "error",
     "traceback": [
      "\u001b[0;31m---------------------------------------------------------------------------\u001b[0m",
      "\u001b[0;31mModuleNotFoundError\u001b[0m                       Traceback (most recent call last)",
      "\u001b[0;32m<ipython-input-43-280817efcdb5>\u001b[0m in \u001b[0;36m<module>\u001b[0;34m\u001b[0m\n\u001b[1;32m      1\u001b[0m \u001b[0msrc_path\u001b[0m \u001b[0;34m=\u001b[0m \u001b[0;34m'/home/xilinx/jupyter_notebooks/UCSD/WES237A/wes237a-2022-js/FinalProject/src'\u001b[0m\u001b[0;34m\u001b[0m\u001b[0;34m\u001b[0m\u001b[0m\n\u001b[1;32m      2\u001b[0m \u001b[0mi2c_device\u001b[0m \u001b[0;34m=\u001b[0m \u001b[0msrc_path\u001b[0m \u001b[0;34m+\u001b[0m \u001b[0;34m'/i2c_device.py'\u001b[0m\u001b[0;34m\u001b[0m\u001b[0;34m\u001b[0m\u001b[0m\n\u001b[0;32m----> 3\u001b[0;31m \u001b[0;32mfrom\u001b[0m \u001b[0mi2c_device\u001b[0m \u001b[0;32mimport\u001b[0m \u001b[0;34m*\u001b[0m\u001b[0;34m\u001b[0m\u001b[0;34m\u001b[0m\u001b[0m\n\u001b[0m",
      "\u001b[0;31mModuleNotFoundError\u001b[0m: No module named 'i2c_device'"
     ]
    }
   ],
   "source": [
    "src_path = '/home/xilinx/jupyter_notebooks/UCSD/WES237A/wes237a-2022-js/FinalProject/src'\n",
    "i2c_device = src_path + '/i2c_device.py'\n",
    "from i2c_device import *"
   ]
  },
  {
   "cell_type": "code",
   "execution_count": null,
   "id": "5c8df080",
   "metadata": {},
   "outputs": [],
   "source": []
  }
 ],
 "metadata": {
  "kernelspec": {
   "display_name": "Python 3",
   "language": "python",
   "name": "python3"
  },
  "language_info": {
   "codemirror_mode": {
    "name": "ipython",
    "version": 3
   },
   "file_extension": ".py",
   "mimetype": "text/x-python",
   "name": "python",
   "nbconvert_exporter": "python",
   "pygments_lexer": "ipython3",
   "version": "3.8.2"
  }
 },
 "nbformat": 4,
 "nbformat_minor": 5
}
