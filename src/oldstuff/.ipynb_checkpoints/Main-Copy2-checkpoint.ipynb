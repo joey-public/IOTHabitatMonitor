{
 "cells": [
  {
   "cell_type": "code",
   "execution_count": 1,
   "id": "daaff7c7",
   "metadata": {},
   "outputs": [],
   "source": [
    "from Adafruit_IO import Client, Feed\n",
    "from i2c_sensor_classes import Ky015Sensor, Ky018Sensor\n",
    "from aio_helper_classes import HabitatMonitorClient\n",
    "import time"
   ]
  },
  {
   "cell_type": "code",
   "execution_count": 2,
   "id": "0ac625b2",
   "metadata": {},
   "outputs": [
    {
     "data": {
      "application/javascript": [
       "\n",
       "try {\n",
       "require(['notebook/js/codecell'], function(codecell) {\n",
       "  codecell.CodeCell.options_default.highlight_modes[\n",
       "      'magic_text/x-csrc'] = {'reg':[/^%%microblaze/]};\n",
       "  Jupyter.notebook.events.one('kernel_ready.Kernel', function(){\n",
       "      Jupyter.notebook.get_cells().map(function(cell){\n",
       "          if (cell.cell_type == 'code'){ cell.auto_highlight(); } }) ;\n",
       "  });\n",
       "});\n",
       "} catch (e) {};\n"
      ]
     },
     "metadata": {},
     "output_type": "display_data"
    },
    {
     "data": {
      "application/javascript": [
       "\n",
       "try {\n",
       "require(['notebook/js/codecell'], function(codecell) {\n",
       "  codecell.CodeCell.options_default.highlight_modes[\n",
       "      'magic_text/x-csrc'] = {'reg':[/^%%pybind11/]};\n",
       "  Jupyter.notebook.events.one('kernel_ready.Kernel', function(){\n",
       "      Jupyter.notebook.get_cells().map(function(cell){\n",
       "          if (cell.cell_type == 'code'){ cell.auto_highlight(); } }) ;\n",
       "  });\n",
       "});\n",
       "} catch (e) {};\n"
      ]
     },
     "metadata": {},
     "output_type": "display_data"
    }
   ],
   "source": [
    "from pynq.overlays.base import BaseOverlay\n",
    "from pynq.lib import MicroblazeLibrary\n",
    "base = BaseOverlay(\"base.bit\")"
   ]
  },
  {
   "cell_type": "markdown",
   "id": "87fb575e",
   "metadata": {},
   "source": [
    "# Testing Reading from the Sensors \n",
    "no cloud here, trying to decouple cloud code and sensor reading code"
   ]
  },
  {
   "cell_type": "code",
   "execution_count": 4,
   "id": "aa32d33c",
   "metadata": {},
   "outputs": [
    {
     "name": "stdout",
     "output_type": "stream",
     "text": [
      "Read Data?(y/n): y\n",
      "\tTemp: 18.0C, Hum: 54.0%\n",
      "\tBright: 2278\n",
      "Read Data?(y/n): y\n",
      "\tTemp: 18.0C, Hum: 54.0%\n",
      "\tBright: 2278\n",
      "Read Data?(y/n): y\n",
      "\tTemp: 18.0C, Hum: 54.0%\n",
      "\tBright: 2276\n",
      "Read Data?(y/n): n\n"
     ]
    }
   ],
   "source": [
    "KY015_ADDR = 8\n",
    "KY018_ADDR = 0x28\n",
    "SCL_PIN = 2\n",
    "SDA_PIN = 3\n",
    "\n",
    "liba = MicroblazeLibrary(base.PMODA, ['i2c'])\n",
    "#custom class see 'src/i2c_sensor_classes.py'\n",
    "ky015 = Ky015Sensor(liba, SDA_PIN, SCL_PIN, KY015_ADDR)\n",
    "\n",
    "libb = MicroblazeLibrary(base.PMODB, ['i2c'])\n",
    "#custom class see 'src/i2c_sensor_classes.py'\n",
    "ky018 = Ky018Sensor(libb, SDA_PIN, SCL_PIN, KY018_ADDR)\n",
    "\n",
    "response = input('Read Data?(y/n): ')\n",
    "while response != 'n':\n",
    "    temp, hum = ky015.get_temp_and_hum_data()\n",
    "    bright = ky018.get_brightness_data()\n",
    "    print('\\tTemp: {}C, Hum: {}%\\n\\tBright: {}'.format(temp,hum, bright))\n",
    "    response = input('Read Data?(y/n): ')"
   ]
  },
  {
   "cell_type": "markdown",
   "id": "636bd269",
   "metadata": {},
   "source": [
    "# Testing the Habitat Monitor class\n",
    "this class extends the default Adafruit_IO Client, with functionality specific to out Habitat Monitor. If check the client_id and either sets the feeds to the correct Feed Objects, or if the client_id is new then new data feeds are created and associated with the passed client-id. "
   ]
  },
  {
   "cell_type": "code",
   "execution_count": 4,
   "id": "b9be9ea2",
   "metadata": {},
   "outputs": [
    {
     "name": "stdout",
     "output_type": "stream",
     "text": [
      "Enter username: vsaah\n",
      "Enter Key: aio_FgNY863Kh8S6vZbiptLN7AoGEKrt\n",
      "creating new HabitatMonitor...\n",
      "HabitatMonitorClientsetup\n"
     ]
    }
   ],
   "source": [
    "UNAME = input('Enter username: ')\n",
    "KEY = input('Enter Key: ')\n",
    "client_id = 'joeys-pynq-board'\n",
    "\n",
    "#custom class see \"src/aio_helper_classes.py\"\n",
    "aio = HabitatMonitorClient(UNAME, KEY, client_id)    "
   ]
  },
  {
   "cell_type": "code",
   "execution_count": 7,
   "id": "95c154f9",
   "metadata": {},
   "outputs": [
    {
     "name": "stdout",
     "output_type": "stream",
     "text": [
      "Read Data?(y/n): y\n",
      "\tTemp: 16.08C, Hum: 52.0%\n",
      "\tBright: 4095\n",
      "Publish to Cloud?(y/n): y\n",
      "\tData Sent to Adafrui.io\n",
      "Read Data?(y/n): y\n",
      "\tTemp: 16.08C, Hum: 52.0%\n",
      "\tBright: 4095\n",
      "Publish to Cloud?(y/n): n\n"
     ]
    }
   ],
   "source": [
    "response = 'y'\n",
    "while response != 'n':\n",
    "    response = input('Read Data?(y/n): ')\n",
    "    if response == 'n': break\n",
    "    temp, hum = ky015.get_temp_and_hum_data()\n",
    "    bright = ky018.get_brightness_data()\n",
    "    print('\\tTemp: {}C, Hum: {}%\\n\\tBright: {}'.format(temp,hum, bright))\n",
    "    response = input('Publish to Cloud?(y/n): ')\n",
    "    if response == 'n': break\n",
    "    aio.send(aio.temperature_feed.key, temp)\n",
    "    aio.send(aio.humidity_feed.key, hum)\n",
    "    aio.send(aio.brightness_feed.key, bright)\n",
    "    print('\\tData Sent to Adafrui.io')"
   ]
  },
  {
   "cell_type": "markdown",
   "id": "4859497a",
   "metadata": {},
   "source": [
    "# Client Code\n",
    "## ToDo\n",
    "- Integrate Threading + LED + Button code from Ryan\n",
    "- Need to reace to thresholds and blink leds\n",
    "- Should be able to receive new threshold values from cloud\n",
    "- should Read AIO uname + key from a local file (dont push the file to git)\n",
    "- launch all client threads in the client_process fucniton "
   ]
  },
  {
   "cell_type": "code",
   "execution_count": null,
   "id": "3e6cb7c8",
   "metadata": {},
   "outputs": [],
   "source": [
    "def client_process():\n",
    "    pass"
   ]
  },
  {
   "cell_type": "markdown",
   "id": "31ca7acb",
   "metadata": {},
   "source": [
    "# Server Code\n",
    "## ToDo\n",
    "Create a server that can monitor the cloud feeds and change thresholds"
   ]
  },
  {
   "cell_type": "code",
   "execution_count": null,
   "id": "9b7896e7",
   "metadata": {},
   "outputs": [],
   "source": [
    "def server_process():\n",
    "    pass"
   ]
  },
  {
   "cell_type": "markdown",
   "id": "794294c4",
   "metadata": {},
   "source": [
    "# main() Function\n",
    "## ToDo\n",
    "- Launch client process \n",
    "- Optionally launch server process"
   ]
  },
  {
   "cell_type": "code",
   "execution_count": 5,
   "id": "11cbfcc7",
   "metadata": {},
   "outputs": [],
   "source": [
    "def main():\n",
    "    pass"
   ]
  }
 ],
 "metadata": {
  "kernelspec": {
   "display_name": "Python 3",
   "language": "python",
   "name": "python3"
  },
  "language_info": {
   "codemirror_mode": {
    "name": "ipython",
    "version": 3
   },
   "file_extension": ".py",
   "mimetype": "text/x-python",
   "name": "python",
   "nbconvert_exporter": "python",
   "pygments_lexer": "ipython3",
   "version": "3.8.2"
  }
 },
 "nbformat": 4,
 "nbformat_minor": 5
}
