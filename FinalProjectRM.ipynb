{
 "cells": [
  {
   "cell_type": "code",
   "execution_count": 2,
   "id": "730896a9",
   "metadata": {},
   "outputs": [
    {
     "data": {
      "text/plain": [
       "True"
      ]
     },
     "execution_count": 2,
     "metadata": {},
     "output_type": "execute_result"
    }
   ],
   "source": [
    "from pynq.overlays.base import BaseOverlay\n",
    "from pynq.lib import MicroblazeLibrary\n",
    "from Adafruit_IO import Client\n",
    "import time\n",
    "import threading\n",
    "base = BaseOverlay(\"base.bit\")\n",
    "base.is_loaded()\n",
    "# aio = Client('vsaah', ) #key redacted"
   ]
  },
  {
   "cell_type": "markdown",
   "id": "9a74218c",
   "metadata": {},
   "source": [
    "## Server functions for Brightness module"
   ]
  },
  {
   "cell_type": "code",
   "execution_count": 3,
   "id": "b27b84ae",
   "metadata": {},
   "outputs": [],
   "source": [
    "def setBrightnessRange(low,high,lbtFeed,hbtFeed):\n",
    "    if lbt < 0 or lbt > 4095:\n",
    "        print(\"Error: Low brightness threshold out of range\")\n",
    "        return\n",
    "    elif hbt < 0 or hbt > 4095:\n",
    "        print(\"Error: High brightness threshold out of range\")\n",
    "        return\n",
    "    elif lbt >= hbt:\n",
    "        print(\"Error: Low brightness threshold must be less than High brightness threshold\")\n",
    "        return\n",
    "    else:\n",
    "        aio.send(lbtFeed.key, low)\n",
    "        aio.send(hbtFeed.key, high)"
   ]
  },
  {
   "cell_type": "markdown",
   "id": "0626e988",
   "metadata": {},
   "source": [
    "## Helper Threads and Functions for Client"
   ]
  },
  {
   "cell_type": "code",
   "execution_count": 4,
   "id": "0931bba9",
   "metadata": {},
   "outputs": [],
   "source": [
    "def client_button():\n",
    "    global stop, sense_brightness\n",
    "    while not stop:\n",
    "        if btns.read() == 0x01:\n",
    "            sense_brightness = False\n",
    "            stop = True\n",
    "    print(\"Button was pressed! Ending program...\")\n",
    "    \n",
    "def client_LED(LEDStates, LEDLock):\n",
    "    #Process to handle blinking the LEDs to show various statuses on the client board\n",
    "    blinkrate = 1\n",
    "    t_on = 1/(2*blinkrate)\n",
    "    \n",
    "    blinkOn = False; #want lights to blink in sync, this stores state\n",
    "    \n",
    "    while not stop:\n",
    "        usingLock = LEDLock.acquire(True)\n",
    "        if usingLock:\n",
    "            for i in range(4):\n",
    "                if LEDStates[i] == 1:\n",
    "                    if blinkOn:\n",
    "                        base.leds[i].off()\n",
    "                    else:\n",
    "                        base.leds[i].on()\n",
    "\n",
    "            for i in range(4,6):\n",
    "                if LEDStates[i] == 1:\n",
    "                    if blinkOn:\n",
    "                        base.rgbleds[i].off()\n",
    "                    else:\n",
    "                        base.rgbleds[i].on(0b100)\n",
    "            LEDLock.release()\n",
    "        if blinkOn:\n",
    "            blinkOn = False\n",
    "        else:\n",
    "            blinkOn = True\n",
    "                 \n",
    "        time.sleep(t_on)\n",
    "    \n",
    "def start_blink(LEDStates,index):\n",
    "    LEDStates[index] = 1\n",
    "    \n",
    "def stop_blink(LEDStates,index):\n",
    "    LEDStates[index] = 0\n",
    "    led_off(index)\n",
    "    \n",
    "def led_off(index):\n",
    "    if index < 0 or index > 6:\n",
    "        return\n",
    "    elif index < 4:\n",
    "        base.leds[index].off()\n",
    "    else:\n",
    "        base.rgbleds[index].off()\n",
    "        \n",
    "def led_on(index):\n",
    "    if index < 0 or index > 6:\n",
    "        return\n",
    "    elif index < 4:\n",
    "        base.leds[index].on()\n",
    "    else:\n",
    "        base.rgbleds[index].on(0b100)\n",
    "        \n"
   ]
  },
  {
   "cell_type": "code",
   "execution_count": null,
   "id": "aa600663",
   "metadata": {},
   "outputs": [],
   "source": [
    "led_on(5)"
   ]
  },
  {
   "cell_type": "code",
   "execution_count": null,
   "id": "db57fd66",
   "metadata": {},
   "outputs": [],
   "source": [
    "led_off(5)"
   ]
  },
  {
   "cell_type": "markdown",
   "id": "65367bd8",
   "metadata": {},
   "source": [
    "## Light Sensor Process and functions"
   ]
  },
  {
   "cell_type": "code",
   "execution_count": 5,
   "id": "1061e2ed",
   "metadata": {},
   "outputs": [],
   "source": [
    "def light_sense(device,LEDStates,LEDLock):\n",
    "    buf = bytearray(2)\n",
    "    buf[0] = int('00011000', 2)\n",
    "    device.write(0x28, buf, 1)\n",
    "\n",
    "    lbtFeed = aio.feeds('low-brightness-threshold')\n",
    "    hbtFeed = aio.feeds('high-brightness-threshold')\n",
    "    bFeed = aio.feeds('brightness')\n",
    "\n",
    "    sense_brightness = True\n",
    "    samplectr = 0\n",
    "    while sense_brightness and not stop:\n",
    "        if samplectr == 0:\n",
    "            [lowB, highB] = updateBrightnessThresholds(lbtFeed,hbtFeed)\n",
    "        samplectr = (samplectr + 1) % SAMPLES_BEFORE_THRESHOLD_UPDATE\n",
    "        device.read(0x28, buf, 2)\n",
    "        curr_brightness = buf[0] << 8 | buf[1]\n",
    "        print(\"Brightness: {}\".format(curr_brightness))\n",
    "        if curr_brightness < lowB:\n",
    "            start_blink(LEDStates,5)\n",
    "            print(\"ALERT: Brightness is lower than threshold!\")\n",
    "        elif curr_brightness > highB:\n",
    "            start_blink(LEDStates,5)\n",
    "            print(\"ALERT: Brightness is higher than threshold!\")\n",
    "        else:\n",
    "            usinglock = LEDLock.acquire(True)\n",
    "            if usinglock:\n",
    "                stop_blink(LEDStates,5)\n",
    "                LEDLock.release()\n",
    "            \n",
    "        aio.send(bFeed.key, curr_brightness)\n",
    "        time.sleep(SAMPLE_RATE)\n",
    "        \n",
    "def updateBrightnessThresholds(lbtFeed,hbtFeed):\n",
    "    lowB = int(aio.receive(lbtFeed.key).value)\n",
    "    highB = int(aio.receive(hbtFeed.key).value)\n",
    "    print(\"Brightness threshold updated: {} to {}\".format(lowB,highB))\n",
    "    return [lowB,highB]"
   ]
  },
  {
   "cell_type": "code",
   "execution_count": null,
   "id": "2bb4e8f5",
   "metadata": {},
   "outputs": [
    {
     "name": "stderr",
     "output_type": "stream",
     "text": [
      "Exception in thread Thread-4:\n",
      "Traceback (most recent call last):\n",
      "  File \"/usr/lib/python3.8/threading.py\", line 932, in _bootstrap_inner\n",
      "    self.run()\n",
      "  File \"/usr/lib/python3.8/threading.py\", line 870, in run\n",
      "    self._target(*self._args, **self._kwargs)\n",
      "  File \"<ipython-input-5-83f808fc2805>\", line 14, in light_sense\n",
      "NameError: name 'lbtFeed' is not defined\n"
     ]
    },
    {
     "name": "stdout",
     "output_type": "stream",
     "text": [
      "t1 joined\n"
     ]
    }
   ],
   "source": [
    "SAMPLE_RATE = 2 #number of seconds to wait between each sample\n",
    "SAMPLES_BEFORE_THRESHOLD_UPDATE = 5 #number of samples to take before updating threshold again\n",
    "\n",
    "stop = False\n",
    "LEDStates = [0, 0, 0, 0, 0, 0] #store states of LEDs. 0 = steady, 1 = blinking\n",
    "\n",
    "LEDLock = threading.Lock()\n",
    "\n",
    "btns = base.btns_gpio\n",
    "#open and configure Pmod AD2\n",
    "liba = MicroblazeLibrary(base.PMODB, ['i2c'])\n",
    "device = liba.i2c_open(3,2)\n",
    "\n",
    "t1 = threading.Thread(target=light_sense, args=(device,LEDStates,LEDLock))\n",
    "t1.start()\n",
    "t2 = threading.Thread(target=client_LED, args=(LEDStates,LEDLock)) \n",
    "t2.start()\n",
    "t3 = threading.Thread(target=client_button, args=())\n",
    "t3.start()\n",
    "t1.join()\n",
    "print('t1 joined')\n",
    "t2.join()\n",
    "print('t2 joined')\n",
    "t3.join()\n",
    "print('t3 joined')\n",
    "print('Done')\n"
   ]
  },
  {
   "cell_type": "code",
   "execution_count": null,
   "id": "e4fc0bba",
   "metadata": {},
   "outputs": [],
   "source": []
  }
 ],
 "metadata": {
  "kernelspec": {
   "display_name": "Python 3",
   "language": "python",
   "name": "python3"
  },
  "language_info": {
   "codemirror_mode": {
    "name": "ipython",
    "version": 3
   },
   "file_extension": ".py",
   "mimetype": "text/x-python",
   "name": "python",
   "nbconvert_exporter": "python",
   "pygments_lexer": "ipython3",
   "version": "3.8.2"
  }
 },
 "nbformat": 4,
 "nbformat_minor": 5
}
