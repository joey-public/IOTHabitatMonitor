{
 "cells": [
  {
   "cell_type": "markdown",
   "id": "7ef9ac4f",
   "metadata": {},
   "source": [
    "# WES 237A Final Project Test Notebook"
   ]
  },
  {
   "cell_type": "code",
   "execution_count": 1,
   "id": "2cc9b7cd",
   "metadata": {},
   "outputs": [
    {
     "data": {
      "application/javascript": [
       "\n",
       "try {\n",
       "require(['notebook/js/codecell'], function(codecell) {\n",
       "  codecell.CodeCell.options_default.highlight_modes[\n",
       "      'magic_text/x-csrc'] = {'reg':[/^%%microblaze/]};\n",
       "  Jupyter.notebook.events.one('kernel_ready.Kernel', function(){\n",
       "      Jupyter.notebook.get_cells().map(function(cell){\n",
       "          if (cell.cell_type == 'code'){ cell.auto_highlight(); } }) ;\n",
       "  });\n",
       "});\n",
       "} catch (e) {};\n"
      ]
     },
     "metadata": {},
     "output_type": "display_data"
    },
    {
     "data": {
      "application/javascript": [
       "\n",
       "try {\n",
       "require(['notebook/js/codecell'], function(codecell) {\n",
       "  codecell.CodeCell.options_default.highlight_modes[\n",
       "      'magic_text/x-csrc'] = {'reg':[/^%%pybind11/]};\n",
       "  Jupyter.notebook.events.one('kernel_ready.Kernel', function(){\n",
       "      Jupyter.notebook.get_cells().map(function(cell){\n",
       "          if (cell.cell_type == 'code'){ cell.auto_highlight(); } }) ;\n",
       "  });\n",
       "});\n",
       "} catch (e) {};\n"
      ]
     },
     "metadata": {},
     "output_type": "display_data"
    }
   ],
   "source": [
    "from pynq.overlays.base import BaseOverlay\n",
    "from pynq.lib import MicroblazeLibrary\n",
    "base = BaseOverlay(\"base.bit\")"
   ]
  },
  {
   "cell_type": "code",
   "execution_count": 2,
   "id": "5ef5e1c2",
   "metadata": {},
   "outputs": [],
   "source": [
    "import time"
   ]
  },
  {
   "cell_type": "markdown",
   "id": "66d7653e",
   "metadata": {},
   "source": [
    "# Arduino Com I2C"
   ]
  },
  {
   "cell_type": "code",
   "execution_count": 3,
   "id": "bf4c355c",
   "metadata": {},
   "outputs": [],
   "source": [
    "def decode_data(data):\n",
    "    temp_0 = int(data[2])\n",
    "    temp_1 = int(data[3])\n",
    "    hum_0 = int(data[0])\n",
    "    hum_1 = int(data[1])\n",
    "    temp = '{}.{}'.format(temp_0, temp_1)\n",
    "    hum = '{}.{}'.format(hum_0, hum_1)\n",
    "    return temp,hum"
   ]
  },
  {
   "cell_type": "code",
   "execution_count": 4,
   "id": "f3278406",
   "metadata": {},
   "outputs": [
    {
     "name": "stdout",
     "output_type": "stream",
     "text": [
      "Opening i2c with arduino\n",
      "Temp:....20.6 C\n",
      "Hum:.....38.0 % \n",
      "Temp:....20.6 C\n",
      "Hum:.....38.0 % \n",
      "Temp:....20.6 C\n",
      "Hum:.....38.0 % \n",
      "Temp:....20.6 C\n",
      "Hum:.....38.0 % \n",
      "Temp:....20.6 C\n",
      "Hum:.....38.0 % \n",
      "Temp:....20.6 C\n",
      "Hum:.....38.0 % \n",
      "Temp:....20.6 C\n",
      "Hum:.....38.0 % \n",
      "Temp:....20.6 C\n",
      "Hum:.....38.0 % \n",
      "Temp:....20.6 C\n",
      "Hum:.....38.0 % \n",
      "Temp:....20.6 C\n",
      "Hum:.....38.0 % \n",
      "Closing i2c with arduino\n"
     ]
    }
   ],
   "source": [
    "addr =0b00001000 #arduino slave adress = 8\n",
    "SCL = 2 #pynq pmod pin for scl\n",
    "SDA = 3 #pynq pmod pin for sda\n",
    "DATA_LEN = 5\n",
    "\n",
    "liba = MicroblazeLibrary(base.PMODA, ['i2c'])\n",
    "\n",
    "print('Opening i2c with arduino')\n",
    "arduino = liba.i2c_open(SDA, SCL)# TODO open an i2c bus on scl and sda pins\n",
    "\n",
    "buf = bytearray(6)\n",
    "buf[0] = 0b00011000\n",
    "\n",
    "liba.i2c_write(arduino, addr, buf, 1)\n",
    "for i in range(10):\n",
    "    liba.i2c_read(arduino, addr, buf, DATA_LEN)\n",
    "    temp,hum = decode_data(buf)\n",
    "    print('Temp:....{} C\\nHum:.....{} % '.format(temp, hum))\n",
    "    time.sleep(1)\n",
    "print('Closing i2c with arduino')\n",
    "liba.i2c_close(arduino)"
   ]
  },
  {
   "cell_type": "code",
   "execution_count": 5,
   "id": "c633f674",
   "metadata": {},
   "outputs": [],
   "source": [
    "from pynq.overlays.base import BaseOverlay\n",
    "from pynq.lib import MicroblazeLibrary\n",
    "base = BaseOverlay(\"base.bit\")"
   ]
  },
  {
   "cell_type": "code",
   "execution_count": 6,
   "id": "f88c5bed",
   "metadata": {},
   "outputs": [],
   "source": [
    "from i2c_device import I2CDevice"
   ]
  },
  {
   "cell_type": "code",
   "execution_count": 7,
   "id": "5c8df080",
   "metadata": {},
   "outputs": [],
   "source": [
    "ADDR = 8\n",
    "SCL_PIN = 2\n",
    "SDA_PIN = 3\n",
    "DATA_LEN = 5 #bytes\n",
    "liba = MicroblazeLibrary(base.PMODA, ['i2c'])\n",
    "arduino = I2CDevice(liba, SDA_PIN, SCL_PIN, ADDR, DATA_LEN)"
   ]
  },
  {
   "cell_type": "code",
   "execution_count": 8,
   "id": "9bba1a88",
   "metadata": {},
   "outputs": [
    {
     "name": "stdout",
     "output_type": "stream",
     "text": [
      "Temp:....20.6 C\n",
      "Hum:.....38.0 % \n"
     ]
    }
   ],
   "source": [
    "data = arduino.read_and_get_data()\n",
    "temp, hum = decode_data(data)\n",
    "print('Temp:....{} C\\nHum:.....{} % '.format(temp, hum))"
   ]
  },
  {
   "cell_type": "code",
   "execution_count": 9,
   "id": "e9ae13da",
   "metadata": {},
   "outputs": [
    {
     "ename": "NameError",
     "evalue": "name 'delay' is not defined",
     "output_type": "error",
     "traceback": [
      "\u001b[0;31m---------------------------------------------------------------------------\u001b[0m",
      "\u001b[0;31mNameError\u001b[0m                                 Traceback (most recent call last)",
      "\u001b[0;32m<ipython-input-9-ccc153849ac9>\u001b[0m in \u001b[0;36m<module>\u001b[0;34m\u001b[0m\n\u001b[0;32m----> 1\u001b[0;31m \u001b[0marduino\u001b[0m\u001b[0;34m.\u001b[0m\u001b[0mread_data_loop\u001b[0m\u001b[0;34m(\u001b[0m\u001b[0;36m1\u001b[0m\u001b[0;34m,\u001b[0m \u001b[0;36m5\u001b[0m\u001b[0;34m)\u001b[0m\u001b[0;34m\u001b[0m\u001b[0;34m\u001b[0m\u001b[0m\n\u001b[0m",
      "\u001b[0;32m/home/xilinx/jupyter_notebooks/UCSD/WES237A/wes237a-2022-js/FinalProject/src/i2c_device.py\u001b[0m in \u001b[0;36mread_data_loop\u001b[0;34m(self, delay_func, count)\u001b[0m\n\u001b[1;32m     22\u001b[0m             \u001b[0mself\u001b[0m\u001b[0;34m.\u001b[0m\u001b[0mi2c_lib\u001b[0m\u001b[0;34m.\u001b[0m\u001b[0mi2c_read\u001b[0m\u001b[0;34m(\u001b[0m\u001b[0mdevice\u001b[0m\u001b[0;34m,\u001b[0m \u001b[0mself\u001b[0m\u001b[0;34m.\u001b[0m\u001b[0maddr\u001b[0m\u001b[0;34m,\u001b[0m \u001b[0mself\u001b[0m\u001b[0;34m.\u001b[0m\u001b[0mdata\u001b[0m\u001b[0;34m,\u001b[0m \u001b[0mself\u001b[0m\u001b[0;34m.\u001b[0m\u001b[0mdata_bytes\u001b[0m\u001b[0;34m)\u001b[0m\u001b[0;34m\u001b[0m\u001b[0;34m\u001b[0m\u001b[0m\n\u001b[1;32m     23\u001b[0m             \u001b[0mi\u001b[0m\u001b[0;34m+=\u001b[0m\u001b[0;36m1\u001b[0m\u001b[0;34m\u001b[0m\u001b[0;34m\u001b[0m\u001b[0m\n\u001b[0;32m---> 24\u001b[0;31m             \u001b[0mdelay_func\u001b[0m\u001b[0;34m(\u001b[0m\u001b[0mdelay\u001b[0m\u001b[0;34m)\u001b[0m\u001b[0;34m\u001b[0m\u001b[0;34m\u001b[0m\u001b[0m\n\u001b[0m\u001b[1;32m     25\u001b[0m         \u001b[0mself\u001b[0m\u001b[0;34m.\u001b[0m\u001b[0mi2c_lib\u001b[0m\u001b[0;34m.\u001b[0m\u001b[0mi2c_close\u001b[0m\u001b[0;34m(\u001b[0m\u001b[0mdevice\u001b[0m\u001b[0;34m)\u001b[0m\u001b[0;34m\u001b[0m\u001b[0;34m\u001b[0m\u001b[0m\n\u001b[1;32m     26\u001b[0m     \u001b[0;31m#internal/private function to open the i2c bus\u001b[0m\u001b[0;34m\u001b[0m\u001b[0;34m\u001b[0m\u001b[0;34m\u001b[0m\u001b[0m\n",
      "\u001b[0;31mNameError\u001b[0m: name 'delay' is not defined"
     ]
    }
   ],
   "source": [
    "arduino.read_data_loop(1, 5)"
   ]
  },
  {
   "cell_type": "code",
   "execution_count": null,
   "id": "fc05cd3e",
   "metadata": {},
   "outputs": [],
   "source": []
  }
 ],
 "metadata": {
  "kernelspec": {
   "display_name": "Python 3",
   "language": "python",
   "name": "python3"
  },
  "language_info": {
   "codemirror_mode": {
    "name": "ipython",
    "version": 3
   },
   "file_extension": ".py",
   "mimetype": "text/x-python",
   "name": "python",
   "nbconvert_exporter": "python",
   "pygments_lexer": "ipython3",
   "version": "3.8.2"
  }
 },
 "nbformat": 4,
 "nbformat_minor": 5
}
