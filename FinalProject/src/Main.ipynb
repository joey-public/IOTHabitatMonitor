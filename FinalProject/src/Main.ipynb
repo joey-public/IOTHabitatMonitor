{
 "cells": [
  {
   "cell_type": "code",
   "execution_count": 59,
   "id": "daaff7c7",
   "metadata": {},
   "outputs": [],
   "source": [
    "from Adafruit_IO import Client, Feed\n",
    "from i2c_sensor_classes import Ky015Sensor\n",
    "import time"
   ]
  },
  {
   "cell_type": "code",
   "execution_count": 9,
   "id": "0ac625b2",
   "metadata": {},
   "outputs": [
    {
     "data": {
      "application/javascript": [
       "\n",
       "try {\n",
       "require(['notebook/js/codecell'], function(codecell) {\n",
       "  codecell.CodeCell.options_default.highlight_modes[\n",
       "      'magic_text/x-csrc'] = {'reg':[/^%%microblaze/]};\n",
       "  Jupyter.notebook.events.one('kernel_ready.Kernel', function(){\n",
       "      Jupyter.notebook.get_cells().map(function(cell){\n",
       "          if (cell.cell_type == 'code'){ cell.auto_highlight(); } }) ;\n",
       "  });\n",
       "});\n",
       "} catch (e) {};\n"
      ]
     },
     "metadata": {},
     "output_type": "display_data"
    },
    {
     "data": {
      "application/javascript": [
       "\n",
       "try {\n",
       "require(['notebook/js/codecell'], function(codecell) {\n",
       "  codecell.CodeCell.options_default.highlight_modes[\n",
       "      'magic_text/x-csrc'] = {'reg':[/^%%pybind11/]};\n",
       "  Jupyter.notebook.events.one('kernel_ready.Kernel', function(){\n",
       "      Jupyter.notebook.get_cells().map(function(cell){\n",
       "          if (cell.cell_type == 'code'){ cell.auto_highlight(); } }) ;\n",
       "  });\n",
       "});\n",
       "} catch (e) {};\n"
      ]
     },
     "metadata": {},
     "output_type": "display_data"
    }
   ],
   "source": [
    "from pynq.overlays.base import BaseOverlay\n",
    "from pynq.lib import MicroblazeLibrary\n",
    "base = BaseOverlay(\"base.bit\")"
   ]
  },
  {
   "cell_type": "code",
   "execution_count": 10,
   "id": "ea543d1f",
   "metadata": {},
   "outputs": [
    {
     "name": "stdout",
     "output_type": "stream",
     "text": [
      "Enter username: \n",
      "Enter Key: \n"
     ]
    },
    {
     "ename": "RequestError",
     "evalue": "Adafruit IO request failed: 404 Not Found - not found - that is an invalid URL, please check the API documentation at https://io.adafruit.com/api/docs to make sure your URL is correct",
     "output_type": "error",
     "traceback": [
      "\u001b[0;31m---------------------------------------------------------------------------\u001b[0m",
      "\u001b[0;31mRequestError\u001b[0m                              Traceback (most recent call last)",
      "\u001b[0;32m<ipython-input-10-a5053d222095>\u001b[0m in \u001b[0;36m<module>\u001b[0;34m\u001b[0m\n\u001b[1;32m     15\u001b[0m \u001b[0maio\u001b[0m \u001b[0;34m=\u001b[0m \u001b[0mClient\u001b[0m\u001b[0;34m(\u001b[0m\u001b[0mUNAME\u001b[0m\u001b[0;34m,\u001b[0m \u001b[0mKEY\u001b[0m\u001b[0;34m)\u001b[0m\u001b[0;34m\u001b[0m\u001b[0;34m\u001b[0m\u001b[0m\n\u001b[1;32m     16\u001b[0m \u001b[0;31m#create the feed that the data gets sent to\u001b[0m\u001b[0;34m\u001b[0m\u001b[0;34m\u001b[0m\u001b[0;34m\u001b[0m\u001b[0m\n\u001b[0;32m---> 17\u001b[0;31m \u001b[0mtemp_feed\u001b[0m \u001b[0;34m=\u001b[0m \u001b[0maio\u001b[0m\u001b[0;34m.\u001b[0m\u001b[0mfeeds\u001b[0m\u001b[0;34m(\u001b[0m\u001b[0mTEMP_FEED\u001b[0m\u001b[0;34m)\u001b[0m\u001b[0;34m\u001b[0m\u001b[0;34m\u001b[0m\u001b[0m\n\u001b[0m\u001b[1;32m     18\u001b[0m \u001b[0mhum_feed\u001b[0m \u001b[0;34m=\u001b[0m \u001b[0maio\u001b[0m\u001b[0;34m.\u001b[0m\u001b[0mfeeds\u001b[0m\u001b[0;34m(\u001b[0m\u001b[0mHUM_FEED\u001b[0m\u001b[0;34m)\u001b[0m\u001b[0;34m\u001b[0m\u001b[0;34m\u001b[0m\u001b[0m\n\u001b[1;32m     19\u001b[0m \u001b[0;34m\u001b[0m\u001b[0m\n",
      "\u001b[0;32m/usr/local/lib/python3.8/dist-packages/Adafruit_IO/client.py\u001b[0m in \u001b[0;36mfeeds\u001b[0;34m(self, feed)\u001b[0m\n\u001b[1;32m    283\u001b[0m             \u001b[0;32mreturn\u001b[0m \u001b[0mlist\u001b[0m\u001b[0;34m(\u001b[0m\u001b[0mmap\u001b[0m\u001b[0;34m(\u001b[0m\u001b[0mFeed\u001b[0m\u001b[0;34m.\u001b[0m\u001b[0mfrom_dict\u001b[0m\u001b[0;34m,\u001b[0m \u001b[0mself\u001b[0m\u001b[0;34m.\u001b[0m\u001b[0m_get\u001b[0m\u001b[0;34m(\u001b[0m\u001b[0mpath\u001b[0m\u001b[0;34m)\u001b[0m\u001b[0;34m)\u001b[0m\u001b[0;34m)\u001b[0m\u001b[0;34m\u001b[0m\u001b[0;34m\u001b[0m\u001b[0m\n\u001b[1;32m    284\u001b[0m         \u001b[0mpath\u001b[0m \u001b[0;34m=\u001b[0m \u001b[0;34m\"feeds/{0}\"\u001b[0m\u001b[0;34m.\u001b[0m\u001b[0mformat\u001b[0m\u001b[0;34m(\u001b[0m\u001b[0mfeed\u001b[0m\u001b[0;34m)\u001b[0m\u001b[0;34m\u001b[0m\u001b[0;34m\u001b[0m\u001b[0m\n\u001b[0;32m--> 285\u001b[0;31m         \u001b[0;32mreturn\u001b[0m \u001b[0mFeed\u001b[0m\u001b[0;34m.\u001b[0m\u001b[0mfrom_dict\u001b[0m\u001b[0;34m(\u001b[0m\u001b[0mself\u001b[0m\u001b[0;34m.\u001b[0m\u001b[0m_get\u001b[0m\u001b[0;34m(\u001b[0m\u001b[0mpath\u001b[0m\u001b[0;34m)\u001b[0m\u001b[0;34m)\u001b[0m\u001b[0;34m\u001b[0m\u001b[0;34m\u001b[0m\u001b[0m\n\u001b[0m\u001b[1;32m    286\u001b[0m \u001b[0;34m\u001b[0m\u001b[0m\n\u001b[1;32m    287\u001b[0m     \u001b[0;32mdef\u001b[0m \u001b[0mcreate_feed\u001b[0m\u001b[0;34m(\u001b[0m\u001b[0mself\u001b[0m\u001b[0;34m,\u001b[0m \u001b[0mfeed\u001b[0m\u001b[0;34m,\u001b[0m \u001b[0mgroup_key\u001b[0m\u001b[0;34m=\u001b[0m\u001b[0;32mNone\u001b[0m\u001b[0;34m)\u001b[0m\u001b[0;34m:\u001b[0m\u001b[0;34m\u001b[0m\u001b[0;34m\u001b[0m\u001b[0m\n",
      "\u001b[0;32m/usr/local/lib/python3.8/dist-packages/Adafruit_IO/client.py\u001b[0m in \u001b[0;36m_get\u001b[0;34m(self, path)\u001b[0m\n\u001b[1;32m    117\u001b[0m                                 \u001b[0mheaders\u001b[0m\u001b[0;34m=\u001b[0m\u001b[0mself\u001b[0m\u001b[0;34m.\u001b[0m\u001b[0m_headers\u001b[0m\u001b[0;34m(\u001b[0m\u001b[0;34m{\u001b[0m\u001b[0;34m'X-AIO-Key'\u001b[0m\u001b[0;34m:\u001b[0m \u001b[0mself\u001b[0m\u001b[0;34m.\u001b[0m\u001b[0mkey\u001b[0m\u001b[0;34m}\u001b[0m\u001b[0;34m)\u001b[0m\u001b[0;34m,\u001b[0m\u001b[0;34m\u001b[0m\u001b[0;34m\u001b[0m\u001b[0m\n\u001b[1;32m    118\u001b[0m                                 proxies=self.proxies)\n\u001b[0;32m--> 119\u001b[0;31m         \u001b[0mself\u001b[0m\u001b[0;34m.\u001b[0m\u001b[0m_handle_error\u001b[0m\u001b[0;34m(\u001b[0m\u001b[0mresponse\u001b[0m\u001b[0;34m)\u001b[0m\u001b[0;34m\u001b[0m\u001b[0;34m\u001b[0m\u001b[0m\n\u001b[0m\u001b[1;32m    120\u001b[0m         \u001b[0;32mreturn\u001b[0m \u001b[0mresponse\u001b[0m\u001b[0;34m.\u001b[0m\u001b[0mjson\u001b[0m\u001b[0;34m(\u001b[0m\u001b[0;34m)\u001b[0m\u001b[0;34m\u001b[0m\u001b[0;34m\u001b[0m\u001b[0m\n\u001b[1;32m    121\u001b[0m \u001b[0;34m\u001b[0m\u001b[0m\n",
      "\u001b[0;32m/usr/local/lib/python3.8/dist-packages/Adafruit_IO/client.py\u001b[0m in \u001b[0;36m_handle_error\u001b[0;34m(response)\u001b[0m\n\u001b[1;32m    107\u001b[0m         \u001b[0;31m# Handle all other errors (400 & 500 level HTTP responses)\u001b[0m\u001b[0;34m\u001b[0m\u001b[0;34m\u001b[0m\u001b[0;34m\u001b[0m\u001b[0m\n\u001b[1;32m    108\u001b[0m         \u001b[0;32melif\u001b[0m \u001b[0mresponse\u001b[0m\u001b[0;34m.\u001b[0m\u001b[0mstatus_code\u001b[0m \u001b[0;34m>=\u001b[0m \u001b[0;36m400\u001b[0m\u001b[0;34m:\u001b[0m\u001b[0;34m\u001b[0m\u001b[0;34m\u001b[0m\u001b[0m\n\u001b[0;32m--> 109\u001b[0;31m             \u001b[0;32mraise\u001b[0m \u001b[0mRequestError\u001b[0m\u001b[0;34m(\u001b[0m\u001b[0mresponse\u001b[0m\u001b[0;34m)\u001b[0m\u001b[0;34m\u001b[0m\u001b[0;34m\u001b[0m\u001b[0m\n\u001b[0m\u001b[1;32m    110\u001b[0m         \u001b[0;31m# Else do nothing if there was no error.\u001b[0m\u001b[0;34m\u001b[0m\u001b[0;34m\u001b[0m\u001b[0;34m\u001b[0m\u001b[0m\n\u001b[1;32m    111\u001b[0m \u001b[0;34m\u001b[0m\u001b[0m\n",
      "\u001b[0;31mRequestError\u001b[0m: Adafruit IO request failed: 404 Not Found - not found - that is an invalid URL, please check the API documentation at https://io.adafruit.com/api/docs to make sure your URL is correct"
     ]
    }
   ],
   "source": [
    "KY015_ADDR = 8\n",
    "SCL_PIN = 2\n",
    "SDA_PIN = 3\n",
    "\n",
    "TEMP_FEED_GROUP = 'temperature-measurements'\n",
    "HUM_FEED_GROUP = 'humidity-measurements'\n",
    "BRIGHT_FEED_GROUP = 'brightness-measurements'\n",
    "\n",
    "liba = MicroblazeLibrary(base.PMODA, ['i2c'])\n",
    "ky015 = Ky015Sensor(liba, SDA_PIN, SCL_PIN, KY015_ADDR)\n",
    "\n",
    "UNAME = input('Enter username: ')\n",
    "KEY = input('Enter Key: ')\n",
    "\n",
    "TEMP_FEED = 'temperature'\n",
    "HUM_FEED = 'humididty'\n",
    "\n",
    "#Create a client that can send information to the Adafruit Cloud\n",
    "aio = Client(UNAME, KEY)\n",
    "#create the feed that the data gets sent to\n",
    "temp_feed = aio.feeds(TEMP_FEED)\n",
    "hum_feed = aio.feeds(HUM_FEED)\n",
    "\n",
    "response = input('\\t-Read Temp(y/n): ')\n",
    "while response != 'n':\n",
    "    temp, hum = ky015.get_temp_and_hum_data()\n",
    "    #send the data to desired feed\n",
    "    print('\\t\\tTemp: {}C, Hum: {}%'.format(temp,hum))\n",
    "    aio.send(hum_feed.key, hum)\n",
    "    aio.send(temp_feed.key, temp)\n",
    "    response = input('\\t-Read Temp(y/n): ')"
   ]
  },
  {
   "cell_type": "code",
   "execution_count": 52,
   "id": "b9be9ea2",
   "metadata": {},
   "outputs": [],
   "source": [
    "#class that defines the sdl and scl pins for an i2c master\n",
    "class I2CMaster:\n",
    "    def __init__(self, sdl:int, scl:int):\n",
    "        self.sdl_pin = sdl\n",
    "        self.scl_pin = scl\n",
    "        print(global_var)\n",
    "# #class for a sensor that can send data to the cloud       \n",
    "class AioDevice:\n",
    "    def __init__(self, aio:Client, sensor):\n",
    "        self.aio = aio\n",
    "        self.sensor = sensor\n",
    "        self.sensor_data = None\n",
    "    #override these functions in children\n",
    "    #get the sensor_data\n",
    "    def get_data(self):\n",
    "        pass\n",
    "    def publish_data(self):\n",
    "        pass\n",
    "\n",
    "class TempHumSensor(AioDevice):\n",
    "    def __init__(self, aio:Client, sensor:Ky015Sensor):\n",
    "        super().__init__(aio,sensor)\n",
    "    def get_data(self):\n",
    "        temp, hum = self.sensor.get_temp_and_hum_data()\n",
    "        self.sensor_data = (temp, hum)\n",
    "        return self.sensor_data\n",
    "    def publish_data(self, temp_feed, hum_feed):\n",
    "        temp, hum = self.sensor_data\n",
    "        aio.send(temp_feed.key, temp)\n",
    "        aio.send(hum_feed.key, hum)\n",
    "             \n",
    "class BrightnessSensor(AioDevice):\n",
    "    def __init__(self, aio, i2c_master):\n",
    "        pass"
   ]
  },
  {
   "cell_type": "code",
   "execution_count": 53,
   "id": "d5b04065",
   "metadata": {},
   "outputs": [],
   "source": [
    "class HabitatMonitor():\n",
    "    def __init__(self, aio, client_id):\n",
    "        print('creating new HabitatMonitor...')\n",
    "        self.CLIENT_ID_FEED = 'client-ids'\n",
    "        self.FEED_GROUPS = {\n",
    "            'temperature':'temperature-measurements',  \n",
    "            'humidity':'humidity-measurements', \n",
    "            'brightness':'brightness-measurements' \n",
    "        }\n",
    "        self.aio = aio\n",
    "        self.client_id = client_id\n",
    "        self.feeds = {}\n",
    "        self.client_number = None\n",
    "        sucess = self._initilize_feeds()\n",
    "        if not(sucess):\n",
    "            print(\"FAILURE!\")\n",
    "            pass\n",
    "        self.temp_and_hum_sensor = self._init_ky015_sensor()\n",
    "        self.brightness_sensor = self._init_ky018_sensor()\n",
    "\n",
    "    #public methods\n",
    "    def set_feeds(self):\n",
    "        self.feeds['temperature'] = self.aio.feeds('temperature-measurements.temperature-{}-{}'.format(self.client_id, self.client_number))\n",
    "        self.feeds['humidity'] = self.aio.feeds('humidity-measurements.humidity-{}-{}'.format(self.client_id, self.client_number))\n",
    "        self.feeds['brightness'] = self.aio.feeds('brightness-measurements.brightness-{}-{}'.format(self.client_id, self.client_number))\n",
    "\n",
    "#     def read_and_pubilsh_all_sensor_data(self):\n",
    "#         self.read_all_data()\n",
    "#         self.publish_all_data()\n",
    "#     def publish_all_data(self):\n",
    "# #         self.brightness_sensor.publish_data(sefl.feeds['brightness'])\n",
    "    def read_data(self):\n",
    "        temp, hum = self.temp_and_hum_sensor.get_data()\n",
    "#         bright = self.brightness_sensor.get_data()\n",
    "        return temp, hum\n",
    "    def publish_data(self):\n",
    "        self.temp_and_hum_sensor.publish_data(self.feeds['temperature'], self.feeds['humidity'])\n",
    "           \n",
    "    #private methods\n",
    "    def _initilize_feeds(self):\n",
    "        if not(self._is_new_client()):\n",
    "            client_id_feed = self.aio.feeds(self.CLIENT_ID_FEED)\n",
    "            self.client_number = len(self.aio.data(client_id_feed.key))\n",
    "            self.set_feeds()\n",
    "            return True\n",
    "        else:\n",
    "            if self._create_new_feeds():\n",
    "                return True\n",
    "            return False\n",
    "    def _is_new_client(self):\n",
    "        client_ids_feed = self.aio.feeds(self.CLIENT_ID_FEED)\n",
    "        client_ids = self.aio.data(client_ids_feed.key)\n",
    "        for cid in client_ids:\n",
    "            if self.client_id == cid.value:\n",
    "                return False\n",
    "        return True\n",
    "    def _can_create_feeds(self):\n",
    "        #TODO send request to add a new client to the cloud\n",
    "        #the server board can recevie the request and \n",
    "        #decide if the board with this client_id is allowed to join\n",
    "        return True #for now always return True\n",
    "    def _create_new_feeds(self):\n",
    "        client_id_feed = self.aio.feeds(self.CLIENT_ID_FEED)\n",
    "        cur_client_count = len(self.aio.data(client_id_feed.key))\n",
    "        if not(self._can_create_feeds()):\n",
    "            return False\n",
    "        self.client_number = cur_client_count + 1\n",
    "        aio.send(client_id_feed.key, self.client_id)\n",
    "        for feed_name, group_name in self.FEED_GROUPS.items():\n",
    "            feed = Feed(name='{}-{}-{}'.format(feed_name, self.client_id, self.client_number,))\n",
    "            aio.create_feed(feed, group_name)\n",
    "            self.feeds[feed_name] = feed\n",
    "        return True\n",
    "    def _init_ky015_sensor(self):\n",
    "        slave_address = 8\n",
    "        scl_pin = 2\n",
    "        sda_pin = 3\n",
    "        liba = MicroblazeLibrary(base.PMODA, ['i2c'])\n",
    "        ky015 = Ky015Sensor(liba, sda_pin, scl_pin, slave_address)\n",
    "        return TempHumSensor(self.aio, ky015)\n",
    "    def _init_ky018_sensor(self):\n",
    "        pass #TODO\n",
    "    "
   ]
  },
  {
   "cell_type": "code",
   "execution_count": 54,
   "id": "b2a0903b",
   "metadata": {},
   "outputs": [
    {
     "name": "stdout",
     "output_type": "stream",
     "text": [
      "Enter username: vsaah\n",
      "Enter Key: aio_Souf951aUwD276YjXUSdxMFqT34a\n",
      "creating new HabitatMonitor...\n"
     ]
    }
   ],
   "source": [
    "UNAME = input('Enter username: ')\n",
    "KEY = input('Enter Key: ')\n",
    "aio = Client(UNAME, KEY)\n",
    "client_id = 'joeys-pynq-board'\n",
    "# print(aio.feeds())\n",
    "# print('-------------')\n",
    "# print(aio.feeds('client-ids'))\n",
    "hab_mon = HabitatMonitor(aio, client_id) "
   ]
  },
  {
   "cell_type": "code",
   "execution_count": 64,
   "id": "f8516269",
   "metadata": {},
   "outputs": [
    {
     "name": "stdout",
     "output_type": "stream",
     "text": [
      "Getting Habitat Measurements...\n",
      "\tTemp: 20.0, Hum: <module 'time' (built-in)>\n",
      "\tMeasuring took 10.01 ms\n",
      "Pushing Data To the Cloud...\n",
      "\tPushing took 0.72 s\n"
     ]
    }
   ],
   "source": [
    "print('Getting Habitat Measurements...')\n",
    "tt = time.time()\n",
    "temp, hum = hab_mon.read_data()\n",
    "mt = round((time.time()-tt)*1000, 2)\n",
    "print('\\tTemp: {}, Hum: {}\\n\\tMeasuring took {} ms'.format(temp, time, mt))\n",
    "print('Pushing Data To the Cloud...')\n",
    "tt = time.time()\n",
    "hab_mon.publish_data()\n",
    "mt = round(time.time()-tt, 2)\n",
    "print('\\tPushing took {} s'.format(mt))"
   ]
  },
  {
   "cell_type": "code",
   "execution_count": 66,
   "id": "385e2f46",
   "metadata": {},
   "outputs": [
    {
     "name": "stdout",
     "output_type": "stream",
     "text": [
      "Getting Habitat Measurements...\n",
      "\tTemp: 20.0, Hum: <module 'time' (built-in)>\n",
      "\tMeasuring took 10.05 ms\n",
      "Pushing Data To the Cloud...\n",
      "\tPushing took 0.77 s\n",
      "Getting Habitat Measurements...\n",
      "\tTemp: 20.08, Hum: <module 'time' (built-in)>\n",
      "\tMeasuring took 8.72 ms\n",
      "Pushing Data To the Cloud...\n",
      "\tPushing took 0.74 s\n",
      "Getting Habitat Measurements...\n",
      "\tTemp: 20.08, Hum: <module 'time' (built-in)>\n",
      "\tMeasuring took 6.9 ms\n",
      "Pushing Data To the Cloud...\n",
      "\tPushing took 0.74 s\n",
      "Getting Habitat Measurements...\n",
      "\tTemp: 20.08, Hum: <module 'time' (built-in)>\n",
      "\tMeasuring took 8.8 ms\n",
      "Pushing Data To the Cloud...\n",
      "\tPushing took 0.77 s\n",
      "Getting Habitat Measurements...\n",
      "\tTemp: 20.08, Hum: <module 'time' (built-in)>\n",
      "\tMeasuring took 8.81 ms\n",
      "Pushing Data To the Cloud...\n",
      "\tPushing took 0.74 s\n"
     ]
    },
    {
     "ename": "KeyboardInterrupt",
     "evalue": "",
     "output_type": "error",
     "traceback": [
      "\u001b[0;31m---------------------------------------------------------------------------\u001b[0m",
      "\u001b[0;31mKeyboardInterrupt\u001b[0m                         Traceback (most recent call last)",
      "\u001b[0;32m<ipython-input-66-865eaf245874>\u001b[0m in \u001b[0;36m<module>\u001b[0;34m\u001b[0m\n\u001b[1;32m     14\u001b[0m     \u001b[0mmt\u001b[0m \u001b[0;34m=\u001b[0m \u001b[0mround\u001b[0m\u001b[0;34m(\u001b[0m\u001b[0mtime\u001b[0m\u001b[0;34m.\u001b[0m\u001b[0mtime\u001b[0m\u001b[0;34m(\u001b[0m\u001b[0;34m)\u001b[0m\u001b[0;34m-\u001b[0m\u001b[0mtt\u001b[0m\u001b[0;34m,\u001b[0m \u001b[0;36m2\u001b[0m\u001b[0;34m)\u001b[0m\u001b[0;34m\u001b[0m\u001b[0;34m\u001b[0m\u001b[0m\n\u001b[1;32m     15\u001b[0m     \u001b[0mprint\u001b[0m\u001b[0;34m(\u001b[0m\u001b[0;34m'\\tPushing took {} s'\u001b[0m\u001b[0;34m.\u001b[0m\u001b[0mformat\u001b[0m\u001b[0;34m(\u001b[0m\u001b[0mmt\u001b[0m\u001b[0;34m)\u001b[0m\u001b[0;34m)\u001b[0m\u001b[0;34m\u001b[0m\u001b[0;34m\u001b[0m\u001b[0m\n\u001b[0;32m---> 16\u001b[0;31m     \u001b[0mtime\u001b[0m\u001b[0;34m.\u001b[0m\u001b[0msleep\u001b[0m\u001b[0;34m(\u001b[0m\u001b[0mpublish_period\u001b[0m\u001b[0;34m)\u001b[0m\u001b[0;34m\u001b[0m\u001b[0;34m\u001b[0m\u001b[0m\n\u001b[0m\u001b[1;32m     17\u001b[0m     \u001b[0mdt\u001b[0m \u001b[0;34m=\u001b[0m \u001b[0mtime\u001b[0m\u001b[0;34m.\u001b[0m\u001b[0mtime\u001b[0m\u001b[0;34m(\u001b[0m\u001b[0;34m)\u001b[0m\u001b[0;34m-\u001b[0m\u001b[0mstart_time\u001b[0m\u001b[0;34m\u001b[0m\u001b[0;34m\u001b[0m\u001b[0m\n",
      "\u001b[0;31mKeyboardInterrupt\u001b[0m: "
     ]
    }
   ],
   "source": [
    "run_time = 1*60*60 #1 hour\n",
    "publish_period = 10*60 #10 minutes\n",
    "start_time = time.time()\n",
    "dt = 0\n",
    "while dt<run_time:\n",
    "    print('Getting Habitat Measurements...')\n",
    "    tt = time.time()\n",
    "    temp, hum = hab_mon.read_data()\n",
    "    mt = round((time.time()-tt)*1000, 2)\n",
    "    print('\\tTemp: {}, Hum: {}\\n\\tMeasuring took {} ms'.format(temp, time, mt))\n",
    "    print('Pushing Data To the Cloud...')\n",
    "    tt = time.time()\n",
    "    hab_mon.publish_data()\n",
    "    mt = round(time.time()-tt, 2)\n",
    "    print('\\tPushing took {} s'.format(mt))\n",
    "    time.sleep(publish_period)\n",
    "    dt = time.time()-start_time"
   ]
  },
  {
   "cell_type": "code",
   "execution_count": null,
   "id": "edfd15fe",
   "metadata": {},
   "outputs": [],
   "source": []
  }
 ],
 "metadata": {
  "kernelspec": {
   "display_name": "Python 3",
   "language": "python",
   "name": "python3"
  },
  "language_info": {
   "codemirror_mode": {
    "name": "ipython",
    "version": 3
   },
   "file_extension": ".py",
   "mimetype": "text/x-python",
   "name": "python",
   "nbconvert_exporter": "python",
   "pygments_lexer": "ipython3",
   "version": "3.8.2"
  }
 },
 "nbformat": 4,
 "nbformat_minor": 5
}
